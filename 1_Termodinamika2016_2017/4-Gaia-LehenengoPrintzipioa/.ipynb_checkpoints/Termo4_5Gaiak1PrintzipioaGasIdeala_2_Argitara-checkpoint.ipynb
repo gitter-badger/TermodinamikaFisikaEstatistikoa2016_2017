{
 "cells": [
  {
   "cell_type": "code",
   "execution_count": 1,
   "metadata": {
    "collapsed": true
   },
   "outputs": [],
   "source": [
    "from IPython.display import Latex"
   ]
  },
  {
   "cell_type": "markdown",
   "metadata": {},
   "source": [
    "## **Sistema sinplea...**\n",
    "## **Lehenengo Printzipioa eta**\n",
    "## **...gas ideala**\n",
    "## Ariketak, ariketa osagarriak..."
   ]
  },
  {
   "cell_type": "markdown",
   "metadata": {},
   "source": [
    "\n",
    "### 1. Ariketa\n",
    "\n",
    "\n",
    "Gas ideal monoatomiko baten $n$ molei konpresio kuasiestaikoa eragin diegu, $m$ masako likidoarekin ukipen diatermanoan daudela. Horrela, gasaren tenperatura aldatu da. Likidoaren presioak konstante iraungo du; eta bere bero-ahalmena $c_{pl}$ da. Gasaren hasierako eta bukaerako bolumenak $V_{A}$ eta $V_{B}$ dira, hurrenez hurren; eta gasaren eta likidoaren hasierako eta bukaerako tenperaturak, $T_{A}$ eta $T_{B}$.  \n",
    "\n",
    "Lortu hanako hauek:\n",
    "- Likidoak xurgatu duen beroa.\n",
    "- Gasaren entropia-aldaketa eta barne-energiaren aldaketa.\n",
    "- Gasak egindako lana.\n",
    "- Frogatu A $\\rightarrow$ B prozesuak ondoko ekuazioa bete duela:\n",
    "$$T\\,V^{a-1} = C$$\n",
    "- Lortu $a$ konstantearen balioa.   \n",
    "- Lortu $a$ konstantearen limitea honako bi kasu hauetan:  \n",
    "   - $m\\,c_{pl} \\rightarrow 0$  \n",
    "   - $m\\,c_{pl} \\rightarrow\\,\\infty$.  \n",
    "   - Zer motatako transformazio izango da prozesua, aipatutako bi kasu limiteetan?  "
   ]
  },
  {
   "cell_type": "markdown",
   "metadata": {},
   "source": [
    "\n",
    "### 2. Ariketa\n",
    "\n",
    "\n",
    "Gas ideal baten 1 mol-eko laginari $p_{0} = 1$ atm-tik $p_{1} = 20$ atm-rako konpresio isotermo itzulgarria eragin diogu, $T_{0} = 273$ K-ean eta, ondoren, hasierako presiorainoko espantsio adiabatiko itzulgarria.  \n",
    "\n",
    "- Irudikatu, $p/V$ diagraman, eragindako prozesu bikoitza.  \n",
    "- Lortu eragiketa bikoitzaren ondoriozko $T_{1}$ bukaerako tenperatura.  \n",
    "\n",
    "Aurreko eragiketa bikoitza errepikatu dugu, $T_{1}$ tenperaturatik abiatuz; lortu $T_{2}$ bukaerako tenperatura.\n",
    "- Lortu elkarren segidako $k$ eragiketa bikoitz eragindakoan $T_{k}$ bukaerako tenperaturaren adierazpen orokorra.\n",
    "- Lortu $k$-garren eragiketa bikoitzaren ondoriozko gasaren barne-energiaren aldaketaren adierazpen orokorra, $\\gamma$, $T_{0}$, $p_{0}$, $p_{1}$ eta $k$ parametroen funtzioan.\n",
    "- *Lortu k-garren eragiketa bikoitzaren ondoriozko gasaren eta unibertsoaren entropia-aldaketaren adierazpen orokorra.*"
   ]
  },
  {
   "cell_type": "markdown",
   "metadata": {},
   "source": [
    "\n",
    "### 3. Ariketa\n",
    "\n",
    "\n",
    "Lortu Mayer-en erlazioa edozein sistema hidrostatikoren kasuan."
   ]
  },
  {
   "cell_type": "markdown",
   "metadata": {},
   "source": [
    "\n",
    "### 4. Ariketa\n",
    "\n",
    "\n",
    "Lortu Mayer-en erlazioa *Curie-ren eta Weiss-en* egoera-ekuazioari ($M = c\\, H$) segitu dion solido paramagnetikoaren kasuan."
   ]
  },
  {
   "cell_type": "markdown",
   "metadata": {},
   "source": [
    "\n",
    "### 5. Ariketa\n",
    "\n",
    "\n",
    "Aztertu beharreko sistemak ezaugarri termikoa izateaz gain beste askatasun-gradu bat dauka,zeinarekin loturiko aldagai estentsiboa eta intentsiboa $X$ eta $Y$ diren, hurrenez hurren. $Y = Y_{0}$ puntuan aldagai estentsiboak tenperaturarekiko maximoa agertu du.  \n",
    "\n",
    "Zer esan dezakezu $C_{Y}$ eta $C_{X}$ bero-ahalmenei buruz, puntu horretan?  \n",
    "hots, zer lotura dago beren artean?"
   ]
  },
  {
   "cell_type": "markdown",
   "metadata": {},
   "source": [
    "\n",
    "### 6. Ariketa\n",
    "\n",
    "\n",
    "Frogatu ondoko adierazpena beteko dela:  \n",
    "$$ c_{X} = \\left(\\dfrac{\\partial U}{\\partial T}\\right)_{v}  +  \\left[\\left(\\dfrac{\\partial U}{\\partial v}\\right)_{T} + p\\right]\\,\\left(\\dfrac{\\partial v}{\\partial T}\\right)_{X} $$\n",
    "non $c_{X} = \\dfrac{1}{N}\\, \\left(\\dfrac{\\delta Q}{d\\, T}\\right)_{X}$   eran definitu dugun."
   ]
  },
  {
   "cell_type": "code",
   "execution_count": null,
   "metadata": {
    "collapsed": true
   },
   "outputs": [],
   "source": []
  },
  {
   "cell_type": "markdown",
   "metadata": {},
   "source": []
  },
  {
   "cell_type": "markdown",
   "metadata": {},
   "source": []
  },
  {
   "cell_type": "markdown",
   "metadata": {},
   "source": []
  },
  {
   "cell_type": "markdown",
   "metadata": {},
   "source": []
  },
  {
   "cell_type": "markdown",
   "metadata": {},
   "source": []
  },
  {
   "cell_type": "markdown",
   "metadata": {},
   "source": []
  }
 ],
 "metadata": {
  "kernelspec": {
   "display_name": "Python [Root]",
   "language": "python",
   "name": "Python [Root]"
  },
  "language_info": {
   "codemirror_mode": {
    "name": "ipython",
    "version": 2
   },
   "file_extension": ".py",
   "mimetype": "text/x-python",
   "name": "python",
   "nbconvert_exporter": "python",
   "pygments_lexer": "ipython2",
   "version": "2.7.12"
  }
 },
 "nbformat": 4,
 "nbformat_minor": 0
}
