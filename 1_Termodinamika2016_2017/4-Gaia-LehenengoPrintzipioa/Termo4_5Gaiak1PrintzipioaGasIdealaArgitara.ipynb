{
 "cells": [
  {
   "cell_type": "code",
   "execution_count": 2,
   "metadata": {
    "collapsed": false
   },
   "outputs": [],
   "source": [
    "from IPython.display import Latex"
   ]
  },
  {
   "cell_type": "markdown",
   "metadata": {},
   "source": [
    "## **Sistema sinplea...**\n",
    "## **Lehenengo Printzipioa eta**\n",
    "## **...gas ideala**\n",
    "## Ariketak "
   ]
  },
  {
   "cell_type": "markdown",
   "metadata": {},
   "source": [
    "\n",
    "#### Ondorengo ariketetako helburua da *Sistema sinplea* gaian aztertutakoak lantzea eta horietaz jabetzea. Kontua da, gauzak egiten joateko, *benetako* sistema bat beharrezkoa dela. Hortaz, ariketak proposatuta daude ***gas ideala*** gaia aztertutakoan. Horrela, sistema jakina izango dugu esku artean, masa konstanteko sistema hidrostatiko jakina, bi askatasun-gradukoa baino ez: mekanikoa eta termikoa. Horiek egoera-ekuazio bana dute lotuta\n",
    ">#### Honako hau da ariketak ebazteko estrategia: \n",
    ">#### 1. Bildu enuntziatuak sistemari buruz ematen digun informazioa:\n",
    ">####      - egoera-ekuazioak\n",
    ">####      - koefiziente esperimentalak\n",
    ">####      - prozesu bereziekin lotutako informazioa...\n",
    ">#### 2. Bildu sistemaren egoerekin lotutako informazioa:\n",
    ">####  - hasierakoa, bukaerakoa, tartekoak...\n",
    ">#### 3. prozesuarekin lotutako informazioa bildu:\n",
    ">####  - baldintza esperimentalak\n",
    ">####  - aldagairen batek konstante dirauen...\n",
    ">#### 4. Aukeratu deskribapenerako aldagai independenteen sorta \n",
    "#### Aldagairen batek konstante badirau, aukeratu aldagai independentetzat. Horrek, prozesuarekin lotutako aldaketa infinitesimalaren adierazpena erraztuko: konstantea den aldagaiaren aldaketa diferentzialak ez du ekarpenik egingo eta integratu beharreko ekuazioa diferentzialak atal bakarra izango du.\n",
    "\n",
    "#### Konbinatu, prozesu jakinaren kasuan, egoera-ekuazioetan dagoen informazioa eta baldintza esperimentalek finkatzen dutena. Hau da, egoera-ekuazioak deskribatzen ditu sistemarekin lotuta dauden egoera posible denak. Prozesuak aukeratzen ditu posibleak diren horietatik (egoera-ekuazioak deskribatzen dituen horietatik) baldintza esperimental jakinak betetzen dituenak: idatzi informazio hori.\n",
    "\n",
    "\n",
    ">Sistema: gas ideala\n",
    "\n",
    ">Prozesua: $T$ konstantea\n",
    "\n",
    ">Egoera-ekuazio mekanikoa: $p\\, V\\, =\\, n\\,R\\,T$\n",
    "\n",
    ">...baina $T$ konstante denez, $n\\,R\\,T$ ere bai.\n",
    "\n",
    "#### Orduan, honako hau izango dugu:\n",
    "\n",
    "$$p\\,V\\,=\\,konstante$$"
   ]
  },
  {
   "cell_type": "markdown",
   "metadata": {},
   "source": [
    "\n",
    "### 1. Ariketa\n",
    "\n",
    "Bereizte-horma diatermikoz inguraturiko gas ideala dugu esku artean; $T_0$ tenperaturako bero-iturriarekin ukipenean eta, berebat, hasierako $p_{i}$ presioko presio-iturriarekin ukipenean. Presio-iturriaren presioa $p_{f}$ balioraino kuasiestatikoki aldatu da. Lortu honako hauek:\n",
    "\n",
    "- egindako lana,\n",
    "- trukaturiko beroa\n",
    "- gasaren barne-energiaren aldaketa.\n"
   ]
  },
  {
   "cell_type": "markdown",
   "metadata": {},
   "source": [
    "\n",
    "### 2. Ariketa\n",
    "\n",
    "\n",
    "Pistoi batek, $M$ masakoa eta $s$ sekzioko horma diatermiko eta iragaztezinezko zilindro bertikal batean dagoena bera, 1 mol gas itxi du. Bero-iturrien segida infinituarekin ukipenean jarriz, $T_1$-etik $T_2$-ra pasarazi da gasaren tenperatura. Lortu honako hauek:\n",
    "\n",
    "- Hasierako eta amaierako egoeren presioa eta bolumena,\n",
    "- $Q$, $W$ eta $\\Delta U$.\n",
    "\n",
    "Kontuan izan honako hauek: $C_{V}$ eta $C_{p}$ konstanteak direla, pistoiaren beste aldean hutsa dagoela eta, azkenik, grabitateak soilik duela eragina pistoiaren gainean.\n"
   ]
  },
  {
   "cell_type": "markdown",
   "metadata": {},
   "source": [
    "\n",
    "### 3. Ariketa\n",
    "\n",
    "\n",
    "Aurreko ariketako sistema berbera dugu; beraz, gas ideala dugu esku artean. Kasu honetan, ordea, bolumena konstante mantenduko dugu. Horretarako, pistoiaren gainean area era jarraituan botako dugu. Lortu:\n",
    "\n",
    "- Botatako are kantitatea,\n",
    "- $Q$, $W$ eta $\\Delta\\,U$.\n",
    "\n"
   ]
  },
  {
   "cell_type": "markdown",
   "metadata": {},
   "source": [
    "### 4. Ariketa\n",
    "\n",
    "\n",
    "Aurreko ariketako zilindroaren hormak adiabatikoak direla onartuko dugu, oraingo honetan, eta hasierako tenperatura, $T_{i}$.\n",
    "\n",
    "- Zenbateko masa kantitate gehitu behar diogu pistoiari kuasiestatikoki, bukaerako tenperatura $T_{f}=k\\,T_{i}$ izateko?\n",
    "- Lortu $Q$, $W$ eta $\\Delta U$.\n",
    "\n"
   ]
  },
  {
   "cell_type": "markdown",
   "metadata": {},
   "source": [
    "### 5. Ariketa\n",
    "\n",
    "Berogailu elektrikoaren bidez 500 m$^3$-ko ikasgelaren tenperatura 10 graduan jaso dugu. Ikasgelaren presioak konstante dirau, zabalik dagoen leiho bati esker. Airea gas ideala dela onartuz, zenbatekoa izan da airearen barne-energiaren aldaketa?\n",
    "\n"
   ]
  },
  {
   "cell_type": "markdown",
   "metadata": {},
   "source": [
    "### 6. Ariketa\n",
    "\n",
    "Zein da prozesu politropiko baten malda $p/V$ diagraman?\n",
    "\n"
   ]
  },
  {
   "cell_type": "markdown",
   "metadata": {},
   "source": [
    "### 7. Ariketa\n",
    "\n",
    "Airearen jokaera gas idelarena dela onartuz eta Hidrostatikaren Ekuaziotik abiatuz ($\\textrm{d}\\,p =  - \\rho g\\,\\textrm{d}\\,h$), lortu presioak altuerarekiko duen mendekotasuna.\n",
    "\n"
   ]
  },
  {
   "cell_type": "markdown",
   "metadata": {},
   "source": [
    "### 8. Ariketa\n",
    "\n",
    "Fisikari mendizale batek honako altimetroa hau asmatu du: $\\gamma$ konstante adiabatikoko gas idealez beteriko goma elastikoz egindako esferatxo adiabatikoa. Nola erabil dezake asmakizuna?\n"
   ]
  },
  {
   "cell_type": "markdown",
   "metadata": {},
   "source": [
    "### 9. Ariketa\n",
    "\n",
    "Har itzazu aintzakotzat zilindro baten barnean dauden gas ideal baten $N$ molak. Gas idealaren $C_V$ eta $C_p$ bero-ahalmenak konstanteak dira. Hasierako egoeran, gasaren bolumena eta tenperatura $V_{i}$ eta $T_{i}$  dira, hurrenez hurren. Gasa kuasisetatikoki zabaldu da amaierako bolumena eta presioa $V_f = kV_i$ eta $p_{f}$ izan arte. Lortu:\n",
    "\n",
    "- Indize politropikoa,\n",
    "- $\\Delta U$, $Q$ eta $W$.\n",
    "\n"
   ]
  },
  {
   "cell_type": "markdown",
   "metadata": {},
   "source": [
    "### 10. Ariketa\n",
    "\n",
    "- Jarraitu al diezaioke gas ideal monoatomikoak irudian adierazi den prozesuari?\n",
    "- Eta gas ideal diatomikoak?\n",
    "\n",
    "  Baiezkoan, zein gasetan gertatuko da tenperatura-aldaketarik handiena?\n",
    "- Zer gertatzen da $U$ barne-energiarekin?\n",
    "\n",
    "Onartu bi gas idealen mol kopuruak berdinak direla.\n",
    "\n"
   ]
  },
  {
   "cell_type": "markdown",
   "metadata": {},
   "source": [
    "### 11. Ariketa\n",
    "\n",
    "Monoatomikoa eta diatomikoa diren bi gas (ideal) desberdinak tenperaturaren eta bolumenaren balio berberen bidez ezaugarritu ditugu. Haien bolumenak hasierako balioaren erdira izan arte konprimitu ditugu adiabatikoki. Zein dago tenperatura handiagoan?\n"
   ]
  },
  {
   "cell_type": "markdown",
   "metadata": {},
   "source": [
    "\n"
   ]
  },
  {
   "cell_type": "markdown",
   "metadata": {},
   "source": [
    "#### Ondoren datozen ariketetan, sistema, edo sistemak, gas ideala(k) izango d(ir)a, aurrekoetan bezalaxe. Oraingo hauetan, aldiz, ariketen helburua zikloak aztertzea eta horietan trebatzea da.   \n",
    "<br> </br>\n",
    "#### Arestian aipatu den moduan, gas idealak direnez, gas idealarekin lotutako taula beti erabil daiteke, kontrakorik esan ezean.  \n",
    "<br> </br>\n",
    "\n",
    "| datuak |   |   |  | \n",
    "| :------------  |:------:|:------:|:------:|\n",
    "| e-e mekanikoa      | $p\\, V\\,=\\, n\\,R\\, T$   | |\t  | \n",
    "| e-e termikoa       | $ \\Delta U=C_{V}\\,nRT$      |  |\t | \n",
    "| bero-ahalmenak | $c_{V}$ | $c_{p}$ | Mayer-en erlazioa | \n",
    "| monoatomikoa | $\\frac{2}{3}$ | $\\frac{5}{3}$ | $n\\,R$ | \n",
    "| diatomikoa | $\\frac{5}{3}$ | $\\frac{7}{3}$ | $n\\,R$ | \n",
    "| indize adibatikoa: $\\gamma\\,=\\,\\frac{c_{p}}{c_{V}}$ | monoatomiko: $\\frac{5}{3}$ | diatomiko: $\\frac{7}{5}$ |  | \n",
    "| koefiziente esperimentalak | $\\alpha=\\frac{1}{T}$ | $\\kappa_{T}=\\frac{1}{p}$ |  |\n",
    "\n",
    "\n",
    "<br> </br>\n",
    "#### Oso gomendagarria da, kasu hauetan ere bai, irudiak, eskemak, grafikoak egitea. Gehienetan, ikusiko duzunez, $p/V$ diagrametan adierazi beharreko zikloak deskribatzen dira. Irudikatu eta horietan adierazi zer datu ezagutzen duzun, direla egoerak, direla prozesu motak eta horiekin lotutako adierazpenak (ekuazioak, egokia diren diagrametan...). Berebat adierazi zer eskatzen dizun enuntziatuak. Horrela eginez gero, berehala konturatuko zara erabili beharreko prozeduraz. Askotan *termo* irakasgaian gertatzen den moduan, modu asko erabil daiteke, ibilbide asko dago, abiapuntu batetik helmuga-puntura heltzeko. Denbora galtzeko ez bazaude, ondo apuntatu zer eskatzen zaizun eta zer datu duzun. \n",
    "<br> </br>\n",
    "#### ..."
   ]
  },
  {
   "cell_type": "markdown",
   "metadata": {},
   "source": [
    "### 12. Ariketa\n",
    "\n",
    "Esku artean ditugun gas idealaren 4 mol termikoki isolatuta dagoen zilindroan daude, 6 atm-n eta 27 $^{\\circ}$C-ko tenperaturan. Bat-batean, zilindroa itxi duen pistoia askatu da. Ondorioz, gasa 1 atm-ko kanpo-presioaren kontra zabaldu da. Gasak bete duen bolumena hirukoiztu da.\n",
    "Lortu ondokoak:\n",
    "\n",
    "- amaierako tenperatura,\n",
    "- barne-energiaren aldaketa,\n",
    "- trukatutako beroa, eta egindako lana.\n",
    "\n",
    "($C_V  = \\frac{3}{2}R$) \n"
   ]
  },
  {
   "cell_type": "markdown",
   "metadata": {},
   "source": [
    "### 13. Ariketa\n",
    "\n",
    "Gas ideal bati, 300 K-eko tenperaturan dagoena eta 1 mol-ekoa bera, bolumena bikoiztu dion beroketa isobarikoa eragin diogu. Ondoren, hozketa isokoroaren bidez presioaren balioa hasierako presioaren erdira jaitsi dugu. Azkenik, hasierako egoerara eraman duen konpresio isotermoa eragin dugu. Prozesu guztiak itzulgarriak dira. Lortu $Q$, $W$, $\\Delta U$ (eta $\\Delta S$) azpi-prozesu guztietarako eta, ziklo osorako.\n"
   ]
  },
  {
   "cell_type": "markdown",
   "metadata": {},
   "source": [
    "### 14. Ariketa\n",
    "\n",
    "Esku artean duzun nitrogeno kantitatearen egoerari dagozkion ezaugarriak honako hauek dira: $p_{1}=8$ atm, $V_{1}=3$ l, $T_{1}=25^{\\circ}$ C. Beste egoera batean aldiz, sistema ezaugarrituko duten aldagai temodinamikoen balioak, hauexek dira: $V_{2}=4,5$ l eta $p_{2}=6$ atm.\n",
    "Lortu:\n",
    "\n",
    "- Gasak jasotako bero kantitatea, egoera batetik bestera joandakoan.\n",
    "- Zabaldutakoan, gasak egindako lana.\n",
    "- Gasaren barne-energiaren aldaketa.\n"
   ]
  },
  {
   "cell_type": "markdown",
   "metadata": {},
   "source": [
    "### 15. Ariketa\n",
    "\n",
    "Ebatz ezazu ariketa berbera, honako kasu hauetan:\n",
    "\n",
    "- Hasierako egoeratik amaierako egoerarako ibilbidea ABD denean.\n",
    "- Hasierako egoeratik amaierako egoerarako ibilbidea ACD denean.\n",
    "\n",
    "Ibilbideak alboko irudian adierazi dira.\n"
   ]
  },
  {
   "cell_type": "markdown",
   "metadata": {},
   "source": [
    "### 16. Ariketa\n",
    "\n",
    "Gas ideal baten 1 mol, $p_{0}$ eta $V_{0}$ balioetako egoeran dago eta honako ziklo honi segitzera behartu dugu:\n",
    "\n",
    "- 2$p_{0}$ presiorainoko prozesu isotermoa.\n",
    "- 2$V_{0}$ bolumenerainoko prozesu isobarikoa.\n",
    "- $p_{0}$ presiorainoko prozesu isokoroa.\n",
    "- Hasierako egoerara eramango duen prozesu isobaroa.\n",
    "\n",
    "- Irudikatu zikloa, $p/V$ diagraman.\n",
    "- Lortu zikloariren etekina eta alderatu aipatu zikloko muga-tenperaturen artean arituko litzatekeen \\textit{Carnot}-en zikloari dagokionarekin.\n",
    "\n",
    "($C_V  = \\frac{3}{2}R$).\n"
   ]
  },
  {
   "cell_type": "markdown",
   "metadata": {},
   "source": [
    "### 17. Ariketa\n",
    "\n",
    "Makina termiko batek aldameneko irudiko zikloa bete du. $C_{V}$ eta $C_{p}$ bero-ahalmenak konstanteak direla onartuz, zenbatekoa da makinaren etekina?\n",
    "Makinaren $\\mu $ etekina 1 izan liteke?\n",
    "Hartu kontuan $m$ eta $n \\ge 1$ direla. Arbitrarioak izan daitezke?\n"
   ]
  },
  {
   "cell_type": "markdown",
   "metadata": {},
   "source": [
    "### 18. Ariketa\n",
    "\n",
    "Gas ideal baten 1 mol ($C_{V}=\\frac{5}{2}R$) 0 $^{\\circ}$C-tik 50 $^{\\circ}$C-ra isokoroki berotu da. Ondoren, 100 $^{\\circ}$C-ra, isobarikoki berotu. Espantsioaren ondorioz tenperatura 75 $^{\\circ}$C-ra beheratu da. Azkenik, hasierako egoeraraino isobarikoki, hoztu. Ziklo osoan zehar sistemak 74,5 Kcal xurgatu ditu.\n",
    "\n",
    "- Lortu $Q$, $W$ eta $\\Delta U$ zikloaren prozesu guztietarako.\n",
    "- Zein motatako prozesua da hirugarrena?\n"
   ]
  },
  {
   "cell_type": "markdown",
   "metadata": {},
   "source": [
    "### 19. Ariketa\n",
    "\n",
    "Gas ideala ondoko zikloa betetzera behartu dugu:\n",
    "\n",
    "- konpresio isokoro itzulgarria, ($p_{1}$, $V_{1}$) $\\to$ ($p_{2}$, $V_{1}$).\n",
    "- espantsio adiabatiko itzulgarria, ($p_{2}$, $V_{1}$) $\\to$ ($p_{1}$, $V_{2}$).\n",
    "- konpresio isobaro itzulgarria, ($p_{1}$, $V_{2}$) $\\to$ ($p_{1}$, $V_{1}$).\n",
    "\n",
    "Irudika ezazu zikloa $p/V$ diagraman.\n",
    "\n",
    "Demagun 1 mol dugula eta $V_{2}=6$ l dela. Lortu gasak emandako eta xurgatutako bero kantitateak, eta zikloaren etekina. Eman ezazu emaitza $p_{1}$, $V_{1}$ eta $R$ parametroen funtzioan.\n"
   ]
  },
  {
   "cell_type": "markdown",
   "metadata": {},
   "source": [
    "### 20. Ariketa\n",
    "\n",
    "Gas ideal baten 1 mol-ek bi lerro isotermoz eta bi lerro isokoroz osatutako zikloa bete du. Gasaren bolumena  $V_{1}=3$ m$^3$-tik $V_{2}=6$ m$^3$-ra aldatu da, eta gasaren presioa $p_{1}=1$ m$^3$ atm-tik $p_{2}=2$ m$^3$ atm-ra aldatu da. Aldera itzazu sistemak kanporatu duen lana eta zikloan ageri diren muga-tenperaturen artean arituko litzatekeen *Carnot*-en zikloari dagokiona. Espantsio isotermoan sistemaren bolumena bikoiztu da.\n",
    "\n"
   ]
  }
 ],
 "metadata": {
  "anaconda-cloud": {},
  "kernelspec": {
   "display_name": "Python [Root]",
   "language": "python",
   "name": "Python [Root]"
  },
  "language_info": {
   "codemirror_mode": {
    "name": "ipython",
    "version": 2
   },
   "file_extension": ".py",
   "mimetype": "text/x-python",
   "name": "python",
   "nbconvert_exporter": "python",
   "pygments_lexer": "ipython2",
   "version": "2.7.12"
  }
 },
 "nbformat": 4,
 "nbformat_minor": 0
}
