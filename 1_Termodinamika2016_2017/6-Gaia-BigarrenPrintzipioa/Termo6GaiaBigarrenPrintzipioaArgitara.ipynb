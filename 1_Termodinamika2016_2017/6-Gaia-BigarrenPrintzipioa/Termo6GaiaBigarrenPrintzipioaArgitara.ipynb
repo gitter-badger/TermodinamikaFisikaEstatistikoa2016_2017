{
 "cells": [
  {
   "cell_type": "code",
   "execution_count": 8,
   "metadata": {
    "collapsed": false,
    "hide_input": true,
    "run_control": {
     "frozen": false,
     "read_only": false
    }
   },
   "outputs": [],
   "source": [
    "from IPython.display import Latex\n",
    "\n",
    "# Execute this cell to load the notebook's style sheet, then ignore it\n",
    "#from IPython.core.display import HTML\n",
    "#css_file = 'styles/numericalmoocstyle.css'\n",
    "#HTML(open(css_file, \"r\").read())"
   ]
  },
  {
   "cell_type": "markdown",
   "metadata": {},
   "source": [
    "## **Bigarren Printzipioa**\n",
    "## Ariketak "
   ]
  },
  {
   "cell_type": "markdown",
   "metadata": {},
   "source": [
    "## Kualitatiboak\n",
    "\n",
    "\n",
    "Datozen ariketak kuestioak dira, horrexegatik izendatu ditut *kualitatibo*. Bigarren printzipioarekin lotutako kontzeptuak menderatzea eta ondo erabiltzea dute helburu. Askotan, erea *artifizialean* emanda daude, antza, eta halaxe da, hain zuzen ere punturen bat edo beste azpimarratzeko, zehatz izan behar dela adierazteko eta ideak argi geratzeko. Nabaria izago da horietako asko barianteak baino ez direla izango. Honelako kuestio teorikoak, normalean, egon daitezke azterketetan, eta aurreko urteetan egindako azterketatxoak dira, gehien bat.  \n",
    "\n",
    "Oso inportantea da ondo irakurtzea eta, berebat, ariketa oso ona da erantzuna idaztea, eta idatzitako berrirakurtzea eta, askotan, lagungarri gerta daitekeen formularen bat edo beste erabiltzea eta idaztea.  \n",
    "\n",
    "Lehenaren erantzunak jarraian doaz, argi gera dadin nola eman behar diren erantzunak, ariketaren helburuarekin bat etortzeko.\n"
   ]
  },
  {
   "cell_type": "markdown",
   "metadata": {},
   "source": [
    " \n",
    "\n",
    "### 1. Ariketa\n",
    "\n",
    "Sistemaren entropia-aldaketa nulua da prozesu adiabatikoetan.  \n",
    "\n",
    "\n",
    "\n",
    "  Entropiaren kalkulua tartean dagoenean burura datorkigun adierazpena da entropiaren beraren **eragiketa-definizioa**, honako hau: $d S = \\frac{\\delta Q}{T}$.  \n",
    "  Baina, adierazpen hori ez da egokia dagoenetan idatzita: derrigorrean prozesuak *itzulgarri* izan behar du adierazpena erabili ahal izateko, beraz, honako hau da benetan idatzi beharko genukeena (gutxinienez, formalismoz aldatzen ez dugun bitartean...): $d S = \\frac{\\delta Q_{\\textrm{IG}}}{T}$.  \n",
    "  \n",
    "  Hori horrela, eta enuntziatuak esan duenez prozesua adiabatikoa dela, orduan, berehala idazten \"dugu\" honako hau: $\\delta Q_{IG}=0$ (zein itzulezina balitz ere bai, jakina). Hortaz, $d S=0$, eta erantzuna hauxe da (normalean ematen den erantzuna, nahiz eta egokia ez izan): sistemaren entropia-aldaketa nulua da prozesu adiabatikoetan.  \n",
    "  \n",
    "  Beste alde batetik honako hau ere kontuan hartu behar da: entropia, entropia-funtzioa, batukorra da, askatasun-graduetan (ekarpen bana egiten dute), azpi-sistemetan (sistema konposatuak aztertzen baditugu...azken finean, aurreko kontzeptu berbera da)...  \n",
    "  \n",
    "  Entropiaren kalkuluaren ikuspuntutik, beti aztertu beharreko *sistema* unibertsoa da, hots, ingurunea gehi sistema termodinamikoa: biek hartzen dute parte edozein prozesutan, egotekotan behintzat. Hots, sistema termodinamikoak ingurunerik ez badauka, bera da unibertsoa. Enuntziatua berreskuratuz: prozesua adiabatikoa bada, sistemak ez du berorik trukatzen. Beraz, sistemak ez dauka ingurune termikorik, behintzat *ikusten duen* ingurune termikorik. Hauxe da buruan izateko adierazpena: $\\Delta S_{U} = \\Delta S_{sis} + \\Delta S_{ing}$. Sistemak ingurunea badauka, termikoa, prozesu adiabatikoa *unibertsoan gertatzen da*, eta sistemak beroa truka dezake, agian, era itzulgarrian (horrelakorik ez baita aipatzen). Beraz, sistemaren entropia-aldaketak ez du nulu izan behar. Ingurunerik gabeko kasuan eta itzulgarri izanik, bai.  \n",
    "  \n",
    "  Ideia interesantea hauxe da: entropia aldatzeko modu asko dago. Izan ere, gehienetan, egoera-aldaketak, edozein egoera-aldaketak, entropia-aldaketa dakar, egoera-aldaketa oso berezia ez bada, behintzat, bat zeinean, azpiprozesu infinitesimal orotan (*edozein aldiunetan esango genuke, baina ezin dugu, denborak ez baitu parterik hartzen...*) sistemaren eta ingurunearen entropia-aldaketak elkar konpentsatzen duten, bien arteko batura nulua eginez. Hori da prozesua (osoa, finitua), itzulgarria izatea, azpiprozesu infinitesimal oro itzulgarri izateak zihurtatzen baitu oreka-egoeren artekoa izango dela eta energia-barreiaketarik gabekoa eta, ondorioz, finitua ere bai. Baina kontuz, unibertsoarenaz ari baitgara, bestela ez dago konpetsatzerik.    \n",
    "  \n",
    "  Demagun aztertu beharreko sistema zilindro adiabatiko batean dugun gas idela dela eta era kuasiestatikoan konprimitzen dugula, zilindora ixten duen marruskadurarik gabeko pistoi adiabatiko idealari esker. Aldatzen al da sistemaren entropia? Trukatu al du sistemak berorik?\n",
    "  \n",
    "  *Espero dut argi geratu izana, nahiz eta egia izan daitekeen zenbait prozesu adiabatikotan sistemaren entropia-aldaketa nulua izatea, enuntziatuan aipatutakoan eta aipatu den moduagatik hain zuzen ere, zehaztasunik gabe, ezin dela hori erantzun.*    \n",
    "  \n",
    "  \n",
    "  *Horren antzera erantzun beharko da...gehienetan...*konturatuko zarenez, esan bezala, beherago dauden enuntziatu batzuk lehenengo honen eta honekin lotutako ideien barianteak dira.  \n",
    "  \n",
    "  \n",
    "- Sistemaren entropia-aldaketa positiboa da prozesu adiabatiko itzulezinetan.  \n",
    "- Ingurunearen entropia-aldaketa positiboa da beti prozesu ez adiabatikoetan.  \n",
    "- Lana ezin daiteke oso-osorik bero bihurtu.  \n",
    "- Beroa ezin daiteke oso-osorik lan bihurtu.  \n",
    "\n",
    "\n",
    "\n"
   ]
  },
  {
   "cell_type": "markdown",
   "metadata": {},
   "source": [
    "### 2. Ariketa\n",
    "\n",
    "\n",
    "Aztertu honako baieztapenak eta azaldu, ongi arraizonatuz (dena ondo azalduz), egia ala gezurra diren:\n",
    "- Baldin eta oreka-egoera batean dagoen sistema bati energia kantitate jakin bat ematen bazaio bero eran, sistemak beti lortzen du bukaerako oreka-egoera berbera.\n",
    "- Ezinezkoa da prozesu isotermo batean lana bero bihurtzea amaigabeko eran.\n",
    "- Prozesu isoentropikoak adiabatikoa dakar ondorioz, eta alderantziz.\n",
    "- $dS=\\frac{1}{T}\\left(C_V\\,dT+p\\,dV\\right)$\n"
   ]
  },
  {
   "cell_type": "markdown",
   "metadata": {},
   "source": [
    "### 3. Ariketa\n",
    "\n",
    "\n",
    "Aztertu honako baieztapenak eta azaldu, ongi arraizonatuz (dena ondo azalduz), egia ala gezurra diren:  \n",
    "\n",
    "1. Sistemaren entropia-aldaketa nulua da prozesu adiabatikoetan.  \n",
    "1. Sistemaren entropia-aldaketa positiboa da prozesu adiabatiko itzulezinetan.\n",
    "1. Ingurunearen entropia-aldaketa positiboa da beti, prozesu ez adiabatikoetan.\n",
    "1. Lana ezin daiteke oso-osorik bero bihurtu.\n",
    "1. Beroa ezin daiteke oso-osorik lan bihurtu.\n",
    "1. Prozesu itzulgarri guztietan sistemaren entropia-aldaketa nulua da.\n",
    "1. Prozesu adiabatikoari segitu dion sistemaren entropia-aldaketa nulua da.\n",
    "1. Esku artean dugun sistemaren espantsio askean, tenperaturak konstante iraun du.\n",
    "1. Esku artean duzun sistemak entropia jaso egingo du beroa xurgatuko badu soilik.\n",
    "1. Esku artean duzun sistemak zikloa bete du: sistemaren eta ingurunearen entropia-aldaketak nuluak dira beti.\n",
    "1. Prozesu isoentropikoak adiabatikoa dakar ondorioz. Alderantzizkoa ere egia da.\n",
    "1. Ba al dago jasotzerik edozein sistemaren entropia beste sistemetan inolako aldaketarik sorrarazi gabe?\n",
    "1. Itxia den sistemaren kasuan, ez dago barne-loturarik aldatzerik zeinaren ondorioz sistemaren entropia txikiagotuko den. (Definitu sistema **itxia**.)  \n",
    "- Aztergai dugun sistema $A$ egoeran dago. Sistema egon daitekeen $B$ egoeraren entropia $A$-ri dagokionarena baino handiagoa da. Ondorioz:\n",
    "\n",
    "  - sistema itxia bada, $A$ ezin da $B$-tik lortu\n",
    "  - sistema itxia bada, barne-loturen konbinazioren bat erabiliz, $B$-tik $A$ lortu daiteke\n",
    "  - sistema itxia ez bada, posiblea da $B$-tik $A$ lortzea, egokia den kanpo-sistemaren bat akoplatuz\n",
    "  - aurreko aukera guztiak egokiak dira\n",
    "\n",
    "- Esku artean dugun sistema $A$ oreka-egoeratik $B$ oreka-egoerara eraman dugu honako prozezu hauetan zehar:\n",
    "\n",
    "  - adiabatiko itzulgarria $+$ isobaro itzulgarria\n",
    "  - isobaro itzulgarria $+$ isotermo itzulgarria\n",
    "  - adiabatiko itzulezina\n",
    "\n",
    "    Arrazonatu zein prozesutan sistemaren entropia-aldaketa txikiena izan den."
   ]
  },
  {
   "cell_type": "markdown",
   "metadata": {},
   "source": [
    "### 4. Ariketa\n",
    "\n",
    "\n",
    "Aintzakotzat hartu ingurunearekin bero kantitaterik trukatu gabe gertatu den prozesua. Ager al daiteke unibertsoaren entropia-aldaketarik? Aipatu bi adibide.\n",
    "\n"
   ]
  },
  {
   "cell_type": "markdown",
   "metadata": {},
   "source": [
    "### 5. Ariketa\n",
    "\n",
    "\n",
    "Horma finko, adiabatiko eta iragazkorreko sistemak prozesu itzulezinari segitu dio, zeinak sistemaren entropia txikiagotu duen.\n",
    "\n"
   ]
  },
  {
   "cell_type": "markdown",
   "metadata": {},
   "source": [
    "### 6. Ariketa\n",
    "\n",
    "Justifikatu ondoko baieztapenak:\n",
    "\n",
    "1. Prozesu itzulgarri guztietan sistemaren entropia-aldaketa nulua da.\n",
    "1. Prozesu adiabatikoari segitu dion sistemaren entropia-aldaketa nulua da.\n",
    "1. Esku artean dugun sistemaren espantsio askean, tenperaturak konstante iraun du.\t\n"
   ]
  },
  {
   "cell_type": "markdown",
   "metadata": {},
   "source": [
    "## Motorrak eta hozkailuak\n"
   ]
  },
  {
   "cell_type": "markdown",
   "metadata": {},
   "source": [
    "### 7. Ariketa\n",
    "\n",
    "Gas ideal baten 1 mol-i bolumena bizkoiztu dion zabaltze isotermo itzulezina eragin diogu. Bero-iturriaren tenperatura 300 K da eta prozesuaren ondorioz egindako lana, 3000 joule. Aipatutakoa ba al da *Entropia-emendioaren printzipioarekin* bateragarri?"
   ]
  },
  {
   "cell_type": "markdown",
   "metadata": {},
   "source": [
    " *Carnot-en* motorra oso motor inportantea da, ez aplikagarritasunagatik, baizik eta teknikoki eta kontzeptualki.  \n",
    "Lehenik eta behin motor itzulgarria da, beraz, hozkailu moduan erabil daiteke baita ere, buelta eman diezaiogulako. Zikloa osatzen lau azpiprozesu dira: bi adibatiko itzulgarri eta bi isotermiko itzulgarri. Prozesu adiabatikoetan sistemak ez du berorik trukatzen; bero-trukea prozesu isotermikoetan soilik gertatzen da. Prozesu isotermikoak direnez, bero-iturriekin ukipen termikoan gertatzen diren prozesuak dira eta bi baino ez daude. Frogatu dugu, motorraren errendimenduak bi tenperaturen funtzioa baino ez dela: berdin dio zer sistema dagoen zikloki bueltaka eboluzionatzen, malgukia dela, sistema magnetikoa, elektrikoa, gas ideala...edozein kasutan $T_{1}$ eta $T_{2}$ finkatutakoan, errendimendua beti da $\\mu_{C}= 1-\\frac{T_{2}}{T_{1}}$ ($T_{1}>T_{2}$). Hori frogatu da $T/S$ diagrama erabilita *Carnot-en* zikloa adierazteko, zeinean zikloaren adierazpena unibertsala den, hots, diagrama horretan ez da sistemari buruzko informaziorik agertzen, zikloari buruzkoa baino ez. Zergatik da hori? Prozesu isotermikoak kanpoko bero-iturriek (inguruneak) finkatzen dituzteelako, sistemak berak ezin du ezer egin. Prozesu adiabatikoak, aldiz, sistemaren araberakoak dira, sistemen ezaugarriek (askatasun-graduek) \"eramango dute\" sistema finkatutako tenperatura batetik bestera (bi noranzkoetan, jakina), era berezian. Baina, hauxe da gakoa: prozesu horiek ez dute parterik hartzen errendimenduaren kalkuluan, horietan berorik trukatzen ez baita (trukatutako beroak erabili behar dira edozein motorren errendimendua kalkulatzeko $\\mu_{m}= \\frac{|W|}{|Q{\\downarrow}|} = \\frac{|Q_{\\downarrow}-Q_{\\uparrow}|}{|Q_{\\downarrow}|}$). Beraz, modu horretan kentzen ditugu sistemaren ezaugarriak errendimenduaren adierazpenetik: prozesuak itzulgarriak izanik $\\delta Q = T dS$ idatz daiteke eta $T$ finkoa denez, isotermikoetan, $Q = T\\Delta S$. Hau da, $S$ eta $T$ dira aldagai naturalak *Carnot-en* zikloa adierazteko, horixe da ondorioa.   \n",
    "\n",
    " Beste edozein diagramatan (lehenik, sistema motaren araberakoa, jakina) prozesu adiabatikoa ($U/T, V/T, \\dots$) edo isotermikoa ($S/V$) ez dira aldagai naturalak erabiliz adieraziko eta, beraz, sistemaren ezaugarriak agertaraziko ditugu horien adierazpen grafikoetan. Jakina, errendimenduaren adierazpena inoiz ez da aldatzen: hori frogatuta dago!\n",
    "</div>\n",
    "  \n",
    "### 8. Ariketa\n",
    "\n",
    "Demagun esku artean *Carnot*-en motor bat duzula, zeinean gas ideala dagoen.  \n",
    "- Adieraz ezazu grafikoki ziklo bakoitzean gasak beteko duen ibilbidea honako diagrama hauetan: $T/S$, $U/T$, $S/V$.  \n",
    "- Lortu etekina kasu bakoitzean.\n",
    "\n",
    "\n"
   ]
  },
  {
   "cell_type": "markdown",
   "metadata": {},
   "source": [
    "### 9. Ariketa\n",
    "\n",
    "#### *Carnot-en* motorra\n",
    "\n",
    "Posiblea al da *Carnot*-en makina bat motor termiko moduan dabilenean, bero-iturri berotik 100 joule xurgatzea eta bero-iturri hotzari 600 joule ematea eta, aldi berean, hozkailu moduan dabilenean, bero-iturri hotzetik 600 joule xurgatzea eta bero-iturri beroan 900 joule uztea?\n"
   ]
  },
  {
   "cell_type": "markdown",
   "metadata": {},
   "source": [
    "### 10. Ariketa\n",
    "\n",
    "#### *Carnot-en* motorra\n",
    "\n",
    "Esku artean dugun *Carnot*-en motorrak bete duen zikloan 100 J hartu du, goi-tenperaturan dagoen bero-iturritik eta 20 J utzi, 200 K-ean dagoen bero-iturrian, behe-tenperaturan dagoenean, hain zuzen ere.\n",
    "\n",
    "\n",
    "- Zenbateko presioa erakutsiko du gas-termometroak goi-temperaturan dagoen bero-iturriarekin ukipenean jarriz gero?\n",
    "- Zenbat lan egin behar da hozkailu moduan aritu dadin?\n",
    "\n",
    "\n"
   ]
  },
  {
   "cell_type": "markdown",
   "metadata": {},
   "source": [
    "### 11. Ariketa\n",
    "\n",
    "####  Makina termiko orokorra, ez da *Carnot-en* motorra\n",
    "\n",
    "Motor bat 127$^{\\circ}$ C-ko eta 27$^{\\circ}$ C-ko tenperaturetako bero-iturrien artean aritu da. Lehenengo bero-iturritik 3200 J xurgatu du motorrak eta bigarren bero-iturriari 2800 J eman dio. Horrelako motorra existitu al daiteke? *Carnot*-en motorra al da?"
   ]
  },
  {
   "cell_type": "markdown",
   "metadata": {},
   "source": [
    "## Entropiaren kalkulua\n",
    "\n",
    "\n",
    " Hurrengo ariketetako helburua da entropia-aldaketa kalkulatzea, zenbait sistematan eta zenbait baldintza esperimentaletan. Hori lortzeko, oraindik esku artean bi tresna baino ez daukazu (formalismoa aldatu arte):   \n",
    "  \n",
    "  - entropiaren eragiketa-definizioa ($d S = \\frac{\\delta Q_{IG}}{T}$) eta  \n",
    "  - lehenengo printzipioaren adierazpena, $\\delta Q = d U - \\delta W$ (adierazpen horrek deskribatzen duen prozesua, adierazpena bera eraiki den modua kontuan hartuta, itzulgarria izanik).\n",
    " \n",
    " Hauxe da, beraz, biak aintzakotzat hartuz, eragingarria den tresna bakarra entropia-aldaketa kalkulatzeko:\n",
    "\n",
    "$$d S = \\frac{1}{T}\\left( d U - \\delta W \\right)$$\n",
    "\n",
    "Prozesua itzulgarria bada, prozesua bera erabil daiteke entropia-aldaketa kalkulatzeko.  \n",
    "Prozesua itzulezina bada, ordea, itzulgarri bat erabiliz ordezkatu behar dugu.  \n",
    "\n",
    "Ordezkatzeak esan nahi du eskua sartu behar dela eta unibertsoa, aldatu: modu horretan aztertuko duguna eta enuntziatuko prozesua ezberdinak dira. Baina, ***prozesu itzulgarri ordezkari berezia*** aukeratuko dugu: enuntziatuko hasierako eta bukaerako oreka-egoera berberak lotzen dituena. Besterik ez dugu behar. Entropia existitzen den funtzioa da; matematikoki diferentzial zehatz baten bidez adierazten da, hots, funtzio matematikoa da. Fisikoki, aldagai termodinamikoen funtzioa izango da. Entropiak sistemaren propietate bat adierazten du: badago esatea *hauxe da sistemaren entropia*. Hortaz, entropia-aldaketak ez dauka prozesua gertatu den ibilbidearekiko mendekotasunik, hasierako eta bukaerako egoeren mendekoa baino ez da haren balioa.  \n",
    "\n",
    "Zer prozesu ordezkari aukeratuko dugu? edozein, gure esku dago; baina, onena da *egokiena* aukeratzea.  \n",
    "\n",
    "Zein izango da egokiena? Baldintza esperimentalek *gomendatzen* dutena. Gomendioa guk geuk ondorioztatuko dugu, jakina. Batetik, hasierako eta bukaerako oreka-egoerak ezagututa eta, bestetik, sistemari buruzko informazioa ezagututa, egoera-ekuazioen bidez, gehienetan. Batzuetan, koefiziente esperimentalak ezagutu ditzakegu. Horrelako kasuek lan apurtxo bat gehiago eskatuko dute. Gogoratu egoera-ekuazioaren deribatuak direla koefiziente esperimentalak, beraz, egoera-ekuazioa berreskuratzeko, integrazio bat egin behar da: horixe da hain zuzen lan gehigarria. Informazio honen guztiaren bidez aukeratuko dugu prozesu ordezkaria eta hori adierazteko egokien diren aldagai termodinamiko independeteak, horien funtzioan lehenengo printzipioaren adierazpen diferentziala idazteko.  \n",
    "\n",
    "Laburbilduz:  \n",
    "Bereizi prozesua ***itzulgarria*** ala ***itzulezina*** den.  \n",
    "- ***Itzulgarria*** denean: prozesua bera erabil daiteke, horretan kalkulatzeko sitemak trukatzen duen beroa\n",
    "  1. ezaugarritu erabat hasierako eta bukaerako egoerak\n",
    "    * sistemari buruzko informazioa erabili:  \n",
    "        - egoera-ekuazioak edo  \n",
    "        - koefiziente esperimentalak edo  \n",
    "        - biak...  \n",
    "  2. aukeratu aldagai termodinamiko independente egokiak\n",
    "    * aurreko urratseko informazioa erebiliz\n",
    "    * prozesuari buruzko informazioa erabiliz\n",
    "  3. eraiki $\\delta Q = dU - \\delta W$\n",
    "  4. zatitu aurreko adierazpena $T$ erabiliz\n",
    "  5. integratu hasierako eta bukaerako egoeren artean  \n",
    "  \n",
    "- ***Itzulezina*** denean: prozesua bera ***ezin*** da erabili, horretan kalkulatzeko sitemak trukatzen duen beroa  \n",
    "  1. ezaugarritu erabat hasierako eta bukaerako egoerak\n",
    "    * sistemari buruzko informazioa erabili:  \n",
    "        - egoera-ekuazioak edo  \n",
    "        - koefiziente esperimentalak edo  \n",
    "        - biak...  \n",
    "  2. aukeratu ***prozesu itzulgarri ordezkari berezia***  \n",
    "     prozesua dagoeneko itzulgarri denez, aurreko atalekoa...\n",
    "     2. aukeratu aldagai termodinamiko independente egokiak\n",
    "       * aurreko urratseko informazioa erebiliz\n",
    "       * prozesuari buruzko informazioa erabiliz\n",
    "     3. eraiki $\\delta Q = dU - \\delta W$\n",
    "     4. zatitu aurreko adierazpena $T$ erabiliz\n",
    "     5. integratu hasierako eta bukaerako egoeren artean  \n"
   ]
  },
  {
   "cell_type": "markdown",
   "metadata": {},
   "source": [
    "### 12. Ariketa\n",
    "\n",
    "Aztertu beharreko gas ideala bero-iturriarekin ukipenean dago eta $2p_{0}$ hasierako presiotik $p_{0}$ bukaerako presioraino zabaldu da.  \n",
    "\n",
    "Lortu gasaren, bero-iturriaren eta unibertsoaren entropia-aldaketak, hanako bi kasu hauetan:  \n",
    "- espantsioa bat-batekoa bada,\n",
    "- espantsio itzulgarrian.\n",
    "\n"
   ]
  },
  {
   "cell_type": "markdown",
   "metadata": {},
   "source": [
    "### 13. Ariketa\n",
    "\n",
    "\n",
    "Gas ideal monoatomiko baten $n$ molei konpresio kuasiestaikoa eragin diegu, $m$ masako likidoarekin ukipen diatermikoan daudela. Horrela, gasaren tenperatura aldatu da. Likidoaren presioak konstante iraungo du eta bere bero-ahalmena $c_{pl}$ da. Gasaren hasierako eta bukaerako bolumenak $V_{A}$ eta $V_{B}$ dira, hurrenez hurren; eta gasaren eta likidoaren hasierako eta bukaerako tenperaturak $T_{A}$ eta $T_{B}$. Lortu honako hauek:\n",
    "\n",
    "1. Likidoak xurgatu duen beroa.\n",
    "1. Gasaren entropia-aldaketa eta barne-energiaren aldaketa.\t\n",
    "1. Gasak egindako lana.\n",
    "1. Frogatu $A \\to B$ prozesuak honako ekuazio honi segitzen diola: $TV^{a-1}=C$\n",
    "1. Lortu $a$ konstantearen balioa eta, berebat, lortu $a$ konstantearen limitea honako bi kasu hauetan:  \n",
    "  - $mc_{pl} \\to 0$\n",
    "  - $mc_{pl} \\to \\infty$\n",
    "    - Zer motatako transformazio izango da prozesua bi kasu limiteetan?\n"
   ]
  },
  {
   "cell_type": "markdown",
   "metadata": {},
   "source": [
    "### 14. Ariketa\n",
    "\n",
    "#### gas ***ia-ia*** ideal bana guneetan...\n",
    "\n",
    "Horma adiabatiko higikorrak bi zatitan banatu du esku artean dugun zilindroa. Zilindroko ezkerrreko gunea horma diatermanoz inguratuta dago eta eskuinekoa, aldiz, horma adiabatikoz. Gune bakoitzean $C_{V}$ konstanteko eta ondoko egoera-ekuazioari segitu dion gasaren mol bakarra dago:\n",
    "\n",
    "$$p(V-b)=RT$$\n",
    "\n",
    "adierazpen horretan $b$ konstantea da. Hasiera batean, guneetako bi gasen hasierako egoera berbera da: ($p_{0}$,$T_{0}$). Ezkerreko guneari beroa eman zaio, era kuasiestatikoan, bere presioa $2p_{0}$ izan arte.  \n",
    "\n",
    "Lortu:\n",
    "  - Eskuineko guneko gasaren entropia-aldaketa eta barne-energiaren aldaketa.\n",
    "  - Ezkerreko gasaren entropia-aldaketa, barne-energiaren aldaketa eta xurgatu duen beroa.\t\n",
    "\n"
   ]
  },
  {
   "cell_type": "markdown",
   "metadata": {},
   "source": [
    "#### Hurrengo ariketak dira ariketa beraren 2 *aldaera*.  \n"
   ]
  },
  {
   "cell_type": "markdown",
   "metadata": {},
   "source": [
    "### 15. Ariketa\n",
    "\n",
    "#### *van der Waals-en* gas bana bi guneetan...\n",
    "\n",
    "\n",
    "Esku artean dugun sistema irudian ageri dena da: horma guztiak adiabatikoak, higiezinak eta iragaztezinak dituen zilindroa, ezkerrekoa izan ezik, diatermanoa bera. Irudian ikus daitekeenez, zilindroaren barnean, higikorra, adiabatikoa eta iragaztezina den pistoia dago. Pistoiak banatu dituen zilindroaren bi guneek *van der Waals*-en gasaren mol bana dute. Ezkerreko aldean dagoen gasari beroa eman zaio, era kuasiestatikoan, bukaerako tenperatura eta bolumena $T_{2}$ eta $\\frac{3v_{0}}{2}$, hurrenez hurren, izan arte. Gasaren $C_{V}$ eta $C_{p}$ bero-ahalmenak ezagunak dira eta ez dute tenperaturarekiko mendekotasunik.  \n",
    "Hasierako egoera ondoko hau da:  \n",
    "\n",
    "    Eskuineko gunea: $v_{0}$.  \n",
    "    Ezkerreko gunea: $T_{0}$, $v_{0}$, $p_{0}$    \n",
    "\n",
    "Lortu:  \n",
    "1. gune bietako gasaren entropia-aldaketa,  \n",
    "2. ezkerreko aldeko gasaren barne-energiaren aldaketa,  \n",
    "3. horrek jaso duen bero kantitatea eta egindako lana.  \n"
   ]
  },
  {
   "cell_type": "markdown",
   "metadata": {},
   "source": [
    "\n",
    "### 15'. Ariketa, 15''. Ariketa...\n",
    "\n"
   ]
  },
  {
   "cell_type": "markdown",
   "metadata": {},
   "source": [
    "### 16. Ariketa\n",
    "\n",
    "Esku artean gas ideal baten 1 mol-eko lagina dugu. 25 $^{\\circ}$C-an dagoen bero-iturriarekin ukipenean dagoela, 100 atm-tik 1 atm-rako espantsioa eragin diogu laginari.  \n",
    "\n",
    "Lortu unibertsoaren entropia-aldaketa honako bi kasu hauetan:\n",
    "\n",
    "1. Lanik egin ez bada.\n",
    "1. Egindako lana 2980 joule izan bada.\n",
    "\n"
   ]
  },
  {
   "cell_type": "markdown",
   "metadata": {},
   "source": [
    "### 17. Ariketa\n",
    "\n",
    "Aztertu beharreko gas erreala era askean espantsionatu da, $T=300$ K-eko bero-iturriarekin ukipen termikoan. Prozesu horretan xurgatu duen beroa da $Q=50$ J. Lehenengo prozesu horren ondoren, gasa konprimitu dugu, era isotermo itzulgarrian; hasierako egoera berreskuratu arte. Bigarren prozesu horretan, gasak 300 J kanporatu du.  \n",
    "\n",
    "Lortu honako hauek:\n",
    "\n",
    "1. Gasaren entropia-aldaketa, lehenengo prozesuan.\n",
    "1. Gasak egindako lana, bigarren prozesuan.\n"
   ]
  },
  {
   "cell_type": "markdown",
   "metadata": {},
   "source": [
    "### 18. Ariketa\n",
    "\n",
    "Bereizte-horma diatermoak eta higikorrak $V_{A}$ eta $V_{B}$ hasierako bolumeneko bi guneetan banatu ditu. Guneek gas ideal baten mol bana dute eta hasierako egoera berean daude: $T$ tenperaturako egoera termikoan.  \n",
    "\n",
    "Frogatu, bukaerako oreka-egoera lortutakoan, guneei (sistema konposatu moduan) dagokien entropia-aldaketa ondoko hau dela:\n",
    "\n",
    "$$\\Delta S = R\\ln \\left[ \\frac{(V_A  + V_B )^2 }{4V_A V_B } \\right]$$\n",
    "\n"
   ]
  },
  {
   "cell_type": "markdown",
   "metadata": {},
   "source": [
    "### 19. Ariketa\n",
    "\n",
    "\n",
    "10 eta 15 l-ko gordailuak finkoa, adiabatikoa eta iragaztezina den hormak banandu ditu. Lehenengo gunean SO$_{2}$ gasa sartu dugu: 288 K-ean eta 2 atm-n. Bigarrenean, NO gasa; kasu honetan, 300 K-ean eta 1 atm-n.    \n",
    "\n",
    "1. Diatermano eta higikor bihurtu dugu bereizte-horma.    \n",
    "Lortu sistema osoari dagokion entropia-aldaketa.  \n",
    "2. Hasierako baldintzetatik abiatuz, bereizte-horma bat-batean kendu dugu.    \n",
    "Lortu sistema osoari dagokion entropia-aldaketa.  \n",
    "3. Gordailuetako gasak berdinak izanik, nola aldatuko lirateke aurreko emaitzak?  \n"
   ]
  },
  {
   "cell_type": "markdown",
   "metadata": {},
   "source": [
    "### 20. Ariketa\n",
    "\n",
    "#### Edozein sistema mota erabil daiteke makina termikoan:  ziklikoki dabilen ***sistema elastikoa***\n",
    "\n",
    "\n",
    "Esku artean dugun hari elastikoa $1,5L_{0}$ luzera lortu arte luzatu dugu, era itzulgarrian. $L_{0}$ da hasierako luzera. Inguruneko tenperatura 27$^{\\circ}$ C da eta, aipatutako prozesuan, hariak 1000 J xurgatu du, ingurunetik. Luzapenaren ondoren, hari elastikoa askatu dugu eta hasierako luzera berreskuratu du, era itzulgarrian. Azken prozesu horretan 2600 J-ko lana egin du sistemak.    \n",
    "\n",
    "Lortu honako hauek:  \n",
    "\n",
    "1. Hariaren entropia-aldaketa, luzatutakoan.  \n",
    "2. Hariaren entropia-aldaketa, bigarren prozesuaren ondorioz.  \n",
    "3. Unibertsoaren entropia-aldaketa, bi prozesuen ondorioz.  \n",
    "4. Luzapenean egindako lana.  \n"
   ]
  },
  {
   "cell_type": "markdown",
   "metadata": {},
   "source": [
    "## Lan Maximoa"
   ]
  },
  {
   "cell_type": "markdown",
   "metadata": {},
   "source": [
    "### 21. Ariketa\n",
    "\n",
    "Meteorito batek, $4 \\times 10^{4}$ tonakoa bera, Lurraren kontra jo du eta Lurraren gainazalean geratu da.  \n",
    "\n",
    "Lortu meteoritotik atera daitekeen lan maximoa, eguratsaren tenperatura 30 $^{\\circ}$C bada, meteoritoaren tenperatura 2000 $^{\\circ}$C da eta bere bero-ahalmen espezifikoa (presioa konstantea denean), honako hau: $c_{p}  = 0.42 + 4.2 \\times 10^{-5}$ T (JK$^{-1}$g$^{-1}$).\n"
   ]
  },
  {
   "cell_type": "markdown",
   "metadata": {},
   "source": [
    "### 22. Ariketa\n",
    "\n",
    "1. A sistema, $C$ bero-ahalmekoa bera, $T_{2}$ tenperaturan dago. Makina termiko idealaren bidez ingurunearekin ukipenean ezarri da; ingurunearen tenperatura $T_{1} > T_{2}$ da.  \n",
    "\n",
    "   Lortu sistematik atera daitekeen $W$ lan maximoa.  \n",
    "\n",
    "2. Ondoren, $W$ lana A sistema berotzeko erabiliko da. Frogatu sistemak lor dezakeen $T_{3}$ tenperaturarik altuena $W$ lan maximoarekin ondoko adierazpenaren bidez erlazionaturik dagoela:\n",
    "\n",
    "   $T_{3} - T_{2}\\left[ 1 + \\ln \\left(\\dfrac{T_{3}}{T_{2}}\\right)\\right] = \\dfrac{W}{C}$\n"
   ]
  },
  {
   "cell_type": "markdown",
   "metadata": {},
   "source": [
    "### 23. Ariketa\n",
    "\n",
    "Ondokoak dira aztertu beharreko bi sistemen bero-ahalmenak: $C_{A}=64$ cal/K$^{-1}$ eta $C_{B}=93.5$ cal/K$^{-1}$. Sistemen hasierako tenperaturak $T_{A}$ eta $T_{B}$ dira, hurrenez hurren. Ukipen diatermanoan jarriz, sistema konposatua eratu da.  \n",
    "\n",
    "Lortu bukaerako tenperatura hanoako kasuetan:\n",
    "\n",
    "1. Ukipena era itzulezienan gertatu da.\n",
    "1. Ukipena era itzulgarrian gertatu da eta atera daitekeen lan maximoa.\t\n",
    "\n"
   ]
  },
  {
   "cell_type": "markdown",
   "metadata": {},
   "source": [
    "### 24. Ariketa\n",
    "\n",
    "Berdinak diren bi sistemen bero-ahalmenek honako ekuazioari segitu diote: $C = 2BT$, non $B = 2 \\cdot 10^{-2}$ J$/$K$^2$ den.\n",
    "\n",
    " \n",
    "\n",
    "Sistemen tenperaturak 200 K eta 400 K dira, hurrenez hurren. Ukipen diatermikoan ezarriz gero, lortu unibertsoaren entropia-aldaketa eta lan maximoa.\n",
    "\n"
   ]
  },
  {
   "cell_type": "markdown",
   "metadata": {},
   "source": [
    "### 25. Ariketa\n",
    "\n",
    "\n",
    "Esku artean dugun sistemari esleitu zaion egoera-ekuazioa ondokoa da:\n",
    "\n",
    "$$ p V = R T + C\\,p^{2} $$\n",
    "\n",
    "Hauxe da sistemaren hasierako egoera: (600 K, 100 atm).  \n",
    "300 K-ean dagoen bero-iturria erabilgarria da eta sistemaren bukaerako egoera honako hau: (300 K, 1 atm).  \n",
    "\n",
    "Lortu:  \n",
    "1. Prozesuaren ondoriozko sistemaren entropia-aldaketa eta barne-energiaren aldaketa.  \n",
    "2. Egoera biak lotzean atera daitekeen lan maximoa.  \n",
    "\n",
    "Sistemaren $c_{p}$ bero-ahalmena $3R$ da.\n",
    "\n"
   ]
  },
  {
   "cell_type": "markdown",
   "metadata": {},
   "source": [
    "### 26. Ariketa\n",
    "\n",
    "\n",
    "Esku artean $C_{V}$ bero-ahalmeneko $N$ sistema berdin ditugu; beren tenperaturak $\\{ T_{1}, T_{2}, \\ldots T_{N}\\}$ dira.  \n",
    "\n",
    "1. Besterik gabe, elkarren arteko ukipen termikoan jarri dira.  \n",
    "   Zenbatekoa da trukatu duten bero kantitate osoa?  \n",
    "2. Demagun, ondoren, $T_{0}$ tenperaturan dagoen bero-iturria erabilgarri dela eta horrekin ukipen termikoan jarri direla sistemak.  \n",
    "Zenbatekoa da horrelako egoeratik atera daitekeen lan maximoa?  \n",
    "Jakina, lortu sistemen bukaerako oreka-egoera termikoa, arestian aipatutako bi kasuetan.\n"
   ]
  }
 ],
 "metadata": {
  "anaconda-cloud": {},
  "kernelspec": {
   "display_name": "Python [Root]",
   "language": "python",
   "name": "Python [Root]"
  },
  "language_info": {
   "codemirror_mode": {
    "name": "ipython",
    "version": 2
   },
   "file_extension": ".py",
   "mimetype": "text/x-python",
   "name": "python",
   "nbconvert_exporter": "python",
   "pygments_lexer": "ipython2",
   "version": "2.7.12"
  },
  "latex_envs": {
   "bibliofile": "biblio.bib",
   "cite_by": "apalike",
   "current_citInitial": 1,
   "eqLabelWithNumbers": true,
   "eqNumInitial": 0
  }
 },
 "nbformat": 4,
 "nbformat_minor": 0
}
