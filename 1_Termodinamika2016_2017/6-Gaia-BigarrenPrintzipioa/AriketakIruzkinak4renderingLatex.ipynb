{
 "cells": [
  {
   "cell_type": "markdown",
   "metadata": {},
   "source": [
    "**Ariketa 13.**\n",
    "\n",
    "Iruzkinak   \n",
    "Gas ideala dugu bero-iturri batekin ukipen termikoan: horixe da unibertsoa.\n",
    "Bi modu ezberdinetan lotzen ditugu gas idealaren (sistemaren) hasierako eta bukaerako egoerak: era itzulezinean, bat-batean hasierako presiotik bukaerako presioraino zabaltzen utziz (bero-iturriarekin ukipenean); eta poliki-poliki, hasierako presiotik buerako presioraino (bero-iturriarekin ukipenean).\n",
    "* Prozesu itzulezina ez da ezagutzen, ez dago definituta, ez dago oreka termodinamikoko egoeran bidez definituta, horixe hain zuzen ere esan nahi du definituta ez egotea.\n",
    "* Prozesu itzulgarriaren kasuan, ez digute esan zer modutan aldatzen diren aldagi termodinamikoen balioak, nahiz eta denak, i.e. tenperatura, bolumena eta presioa, aldatzen diren. Hiru dimentsioko espazio batean, zeinetako ardatzetan aipatutako aldagai termodinamikoak adierazi ditgun, ez dago definituta prozesuari dagokion adierazpena, kurba, aldagaien arteko lotura: $f(p, T, V)=0$. Kasu honetan, badago diagraman adieraztea, prozeus baita oreka termodinamikoko egoeren segida. Baina ez digute esan zein den, horixe da arrazoia ez adierazteko: ez dugula ezagutzen, ez ezinezkoa dela ez baitago definituta...itzulezinari gertatzen zaion moduan.\n",
    "\n",
    "Prozesuak ezberdinak direnez, biekin lotutako unibertsoaren entropia-aldaketa ezberdina da. Baina horixe ez da arrazoi bakarra unibertsoaren entropia-aldaketa ezberdina izateko: bi prozesuetan unibertsoa bera ezberdina da (zergatik? hauxe da galdera ona) eta, jakina, orokorrean, entropia-aldaketak ezberdina izan behar du. Aldiz, bi kasuetan, sistemaren hasierako eta bukaerako egoerak, nahiz eta modu ezberdinetan lotu, berberak dira.\n",
    "\n",
    "Orduan, sistemaren entropia-aldaketa bi prozesuetan berbera da: entropia propietatea da, diferentzial zehatza, ez dauak ibilbidearekiko mendekotasunik, eta nahiz eta ezin dugun lehen prozesua erabili sistemaren entropia-aldaketa kalkulatzeko, kalkulatutakoan, badugu, *betiko* (nolabait esatearren...): ez da gehiagotan kalkulatu behar, badin eta prozesuek lotzen dituzten egoerak berberak badira.\n",
    "\n",
    "Erreparatu dezagun bero-iturrian. Bero-iturria ez da aldatzen bi prozesuetan eta bere zeregina berbera da bi prozesuetan: ukipen termikoan dagoenez sistemarekin, azken horri tenperatura finkatzen dio bere tenperaturan. Horixe da zeregina: nola egiten duen, beste kontu bat da hori.  \n",
    "\n",
    "Bero-iturriaren ikuspuntutik, edozein bero-truke kuasiestatiko da: hain masa handikoa izanik edozein energia kantitate, bero eran, oso txikia da eta $\\delta Q$ moduan adieraz daiteke. Onartu dugu bero-iturriaren entropia-aldaketa beti idatz daitekeela honako era honetan:  \n",
    "$$dS =\\dfrac{\\delta Q}{T}$$\n",
    "\n",
    "Kontuz, adierazpen hori bi prozesuetan erabilgarria da: bietan! Nahiz eta lehena itzulezina izan eta bigarrena itzulgarria. Dena dela, ezin dugu adierazpena erabili ez baitugu prozesua bera nola gertatu den ezagutzen, ez lehenengo kasuan ez eta bigarrenenean ere ez. Lehenengo kasuan ez dago definituta prozesua ez baita pasatzen oreka termodinamikoko egoeretatik. Bigarrena bai igarotzen da oreka termodinamikoko egoeretatik, baina ez digute esan zeintzuetatik (kurba!! ez da ezagutzen) eta, beraz, ezin da $\\delta Q$-ren baliorik lortu.  \n",
    "\n",
    "Prozesu itzulgarria asmakizun hutsa da, definizioz. Deskriba dezagun eredu bat azaltzeko zer modutan gertatzen den asmakizun hutsa den prozesu itzulgarria. Horretarako, dena ideala dela onartu behar dugu. Esaterako, onartu behar dugu, gasa dagoen tanga *gure buruan baino ez dagoela*: ente abstraktua da tanga, gasaren bolumena \"aldiune orotan\" finkatzen duena. Gainera, bero-trukeari dagokionez, oso bitxia da baita ere: ez baitu berorik \"sentitzen\" eta tartekariarena baino ez baitu egiten. Hots, bero-iturriak bero kantitateren bat, oso txikia bere ikuspuntutik askatzen duenean, esaterako, *zuzenean* doa sistemarantz eta heltzen da sistemaraino, bien arteko bereizte-horma ez balego moduan. Baina, are gehiago da, dena idela bada behintzat: sistemarantz doa eta sistema **osoraino** heltzen da *aldi berean* eta *era homogeneoan*...eta horixe da gakoa oreka termodinamikoko egoerak izateko. Hori beteko ez balitz, horietako bat, aldi berean edo era homogeneoan, **desorekak**, oreka termodinamikoko egoerak ez direnak, ikusiko ditugu.  \n",
    "\n",
    "Baina, kontuz berriro ere! Dena idela izateak eta, beraz, oreka termodinamikoko egoeretatik sistema pasarazteak ez du esan nahi kalkulatu dezakegunik trukatzen den beroa. Ez badigute esaten zer modutan gertatu den prozesua, zer modutan trukatu den beroa, nahiz eta era idealean (itzulgarrian) gertatu, ezin dugu kalkulatu, beroa baita prozesu batean zeharreko ibilibidean zeharreko integrala (matematikoki), ez da diferentzial zehatza; fisikoki, ez du sistema baten propietatea adierazten.  \n",
    "\n",
    "Normalean, sistemaren bidez deskribatzen dira prozesuak, hau da, sistemaren aldagie termodinamikoen arteko loturak ezartzen dira prozesuak deskribatzen direnean. Jakina, sistemek dute gure fokoa eta horien propietateak ezagutzen ditugu, egoera-ekuazioen eta koefiziente esperimentalen bidez. Beraz, ingurunetan gertatzen diren aldaketak zeharkako eran kalkulatzen ditugu: sistemekin dituzten itxitura-baldintzak kontuan hartuz.  \n",
    "\n",
    "Bero-iturriei dagokienez haien egoera zein den jakiteko tenperatura baino ez dugu ezagutu behar: askatasun-gradu termikoa baino ez baita haien askatasun-gradu bakarra. Baina horrek ez du esan nahi ezin dutenik beste propietaren bat aldatu: energia edo entrpia, esaterako. Egiatan, beti aldatuko dira bai barne-energiaren balio eta baita ere entropiarena, oso gutxi, jakina, masa izugarri handiko sistemak baitira, baina aldatzen dira, nahiz eta inoiz ez duten egoera termikoa aldatuko. Dena dela, horixe da ezagutzen dugun bero-iturrien propietate bakarra, ez daukagu egoera-ekuaziorik...  Hortaz, bertan gertatzen diren propietateen aldaketak kalkulatzeko berarekin ukipenean dagoen sisteman gertatzen diren propietateen aldaketak erabili behar dira.\n",
    "\n",
    "Orduan, ariketaren kasuan. Sisteman prozesu gertatzen den modua ez dugunez ezagutzen, itzulezina edo itzulgarria direla lehena eta bigarrena, besterik ez dakigu, ezin dugu sistema erabili bero-iturrian gertatzen dena kalkulatzeko, nahiz eta horixe bai dagoen definituta.  \n"
   ]
  },
  {
   "cell_type": "markdown",
   "metadata": {},
   "source": [
    "**Ariketa 15., 16. eta aldaerak**\n",
    "\n",
    "Iruzkinak\n",
    "\n",
    "Abiapuntuko adierazpena da unibertsoari dagokion entropiarena, honako hau:\n",
    "$$d\\,S^{U} = d\\,S^{sis} + d\\,S^{ing}$$  \n",
    "\n",
    "Kasu honetan, sistema da zilindroan pistoiaren bidez konprimitzen den gas ideala eta ingurunea, presio konstantepean mantentzen den likidoa, biak elkarren arteko ukipen termikoan, kontuan hartu hauxe.\n",
    "\n",
    "Enuntziatuak aipatzen du prozesua itzulgarria dela, beraz, edozein kasutan (unibertsoaren kasuan, sistemaren kasuan eta ingurunearen kasuan) entropiaren eragiketa-definizioa erabil daiteke:\n",
    "$$\\left(d\\, S = \\dfrac{\\delta\\,Q_{IG}}{T}\\right)^{\\textrm{non aplikatzen den argituz}} $$\n",
    "Esaterako, aplika dezagun sisteman eta ingurunean, honako hau lortzeko:\n",
    "\n",
    "$$\\left(d\\, S = \\dfrac{\\delta\\,Q_{IG}}{T}\\right)^{sis}\\Rightarrow d\\, S^{sis} = \\dfrac{\\delta\\,Q_{IG}^{sis}}{T^{sis}}$$\n",
    "\n",
    "$$\\left(d\\, S = \\dfrac{\\delta\\,Q_{IG}}{T}\\right)^{ing}\\Rightarrow d\\, S^{ing} = \\dfrac{\\delta\\,Q_{IG}^{ing}}{T^{ing}}$$\n",
    "\n",
    "Itzulgarria dela dakigunez, hemendik aurrera desagartaraziko ditut azpi-indizeak; goiindizeek adierazten dituzte azpisistemak: sistema bera eta ingurunea, likido (esaterako, gas idealean fokatzen badagu interesa).  \n",
    "\n",
    "Orduan, unibertsoari dagokion entropia-aldaketaren adierazpen *garatua* honako hau da:  \n",
    "\n",
    "$$d\\,S^{U} = \\dfrac{\\delta\\,Q^{sis}}{T^{sis}} + \\dfrac{\\delta\\,Q^{ing}}{T^{ing}}$$  \n",
    "\n",
    "$$0 = \\dfrac{\\delta\\,Q^{sis}}{T^{sis}} + \\dfrac{\\delta\\,Q^{ing}}{T^{ing}}$$  \n",
    "\n",
    "Kontuz orain, esplizituki ezberdin adierazi diren bi tenperaturak: $T^{sis}$ eta $T^{ing}$ berdinak baitira. Tenperatura bakarra dago: $T$, gas ideala (sistema) eta likidoa (ingurunea) azpiprozesu infinitesimal orotan, denak itzulgarri izanik, elkarren arteko ukipen termikoan baitaude. Horrexegatik, berau bihurtzen da goiko adierazpena:  \n",
    "\n",
    "$$0 = \\dfrac{\\delta\\,Q^{sis}}{T} + \\dfrac{\\delta\\,Q^{ing}}{T}$$  \n",
    "\n",
    "Ariketarekin segitzeko, orain arteko beste tresna (2. printzipioaz, haren ondorio batez, gain) lehen printzipioa da. Horixe da erabili beharrekoa aurreko adierazpenean agertzen diren $\\delta\\,Q$ bero kantitate infinitesimalak adierazteko:  \n",
    "\n",
    "$$ \\delta\\,Q^{sis} = C_{V}\\, dT + p\\,dV \\Rightarrow dS^{sis} = \\dfrac{C_{V}}{T} dT + \\dfrac{p}{T}\\,dV\\,\\left(\\equiv\\dfrac{nR}{V}\\,dV\\right)$$  \n",
    "$$ \\delta\\,Q^{ing} = m\\,C^{lik}_{p}\\,dT \\Rightarrow dS^{ing} = \\dfrac{m\\,C^{lik}_{p}}{T}\\,dT$$  \n",
    "\n",
    "Modu honetan berridatz daiteke:   \n",
    "\n",
    "$$0 = \\dfrac{C_{V}}{T} dT + \\dfrac{nR}{V}\\,dV + \\dfrac{m\\,C^{lik}_{p}}{T}\\,dT$$  \n",
    "\n",
    "$$-\\dfrac{1}{nR}\\,\\left(C_{V} + m\\,C^{lik}_{p}\\right)\\dfrac{dT}{T} = \\dfrac{nR}{V}\\,dV$$  \n",
    "\n",
    "Ekuazio diferentzial hori integratuta lortzen da gertatu den prozesuari (adiabatiko itzulgarriari baina unibertsoan!!) dagokion adierazpena $T/V$ aldagai termodinamikoen bikotea aldagai independentetzat hartuta, $T/V$ diagraman, normalean esaten dudan moduan.  \n"
   ]
  }
 ],
 "metadata": {
  "anaconda-cloud": {},
  "kernelspec": {
   "display_name": "Python [Root]",
   "language": "python",
   "name": "Python [Root]"
  },
  "language_info": {
   "codemirror_mode": {
    "name": "ipython",
    "version": 2
   },
   "file_extension": ".py",
   "mimetype": "text/x-python",
   "name": "python",
   "nbconvert_exporter": "python",
   "pygments_lexer": "ipython2",
   "version": "2.7.12"
  },
  "latex_envs": {
   "bibliofile": "biblio.bib",
   "cite_by": "apalike",
   "current_citInitial": 1,
   "eqLabelWithNumbers": true,
   "eqNumInitial": 0
  }
 },
 "nbformat": 4,
 "nbformat_minor": 0
}
