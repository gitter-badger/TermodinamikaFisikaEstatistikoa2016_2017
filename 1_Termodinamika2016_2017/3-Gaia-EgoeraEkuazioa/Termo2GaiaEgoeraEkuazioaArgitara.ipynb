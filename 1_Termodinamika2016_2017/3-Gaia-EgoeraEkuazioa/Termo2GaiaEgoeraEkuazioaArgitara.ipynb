{
 "cells": [
  {
   "cell_type": "code",
   "execution_count": 3,
   "metadata": {
    "collapsed": false
   },
   "outputs": [
    {
     "data": {
      "text/html": [
       "<link href='http://fonts.googleapis.com/css?family=Alegreya+Sans:100,300,400,500,700,800,900,100italic,300italic,400italic,500italic,700italic,800italic,900italic' rel='stylesheet' type='text/css'>\n",
       "<link href='http://fonts.googleapis.com/css?family=Arvo:400,700,400italic' rel='stylesheet' type='text/css'>\n",
       "<link href='http://fonts.googleapis.com/css?family=PT+Mono' rel='stylesheet' type='text/css'>\n",
       "<link href='http://fonts.googleapis.com/css?family=Shadows+Into+Light' rel='stylesheet' type='text/css'>\n",
       "<link href='http://fonts.googleapis.com/css?family=Nixie+One' rel='stylesheet' type='text/css'>\n",
       "<style>\n",
       "\n",
       "@font-face {\n",
       "    font-family: \"Computer Modern\";\n",
       "    src: url('http://mirrors.ctan.org/fonts/cm-unicode/fonts/otf/cmunss.otf');\n",
       "}\n",
       "\n",
       "#notebook_panel { /* main background */\n",
       "    background: rgb(245,245,245);\n",
       "}\n",
       "\n",
       "div.cell { /* set cell width */\n",
       "    width: 950px; /*previous 750px*/\n",
       "    /*margin-left:5% !important; /*  Mine Sep2015 */\n",
       "\n",
       "}\n",
       "\n",
       "div #notebook { /* centre the content */\n",
       "    background: #fff; /* white background for content */\n",
       "    width: 1200px; /*previous 1000px*/\n",
       "    margin: auto;\n",
       "    padding-left: 0em;\n",
       "}\n",
       "\n",
       "#notebook li { /* More space between bullet points */\n",
       "    margin-top:0.8em;\n",
       "}\n",
       "\n",
       "/* draw border around running cells */\n",
       "div.cell.border-box-sizing.code_cell.running {\n",
       "    border: 1px solid #111;\n",
       "}\n",
       "\n",
       "\n",
       "/* Put a solid color box around each cell and its output, visually linking them*/\n",
       "div.cell.code_cell {\n",
       "    background-color: rgb(256,256,256);\n",
       "    border-radius: 0px;\n",
       "    padding: 0.5em;\n",
       "    margin-left:1em;\n",
       "    margin-top: 1em;\n",
       "}\n",
       "\n",
       "div.text_cell_render{\n",
       "    /*background-color: rgb(240,240,240); /* MINE */\n",
       "    font-family: 'Alegreya Sans' sans-serif;\n",
       "    line-height: 140%;\n",
       "    font-size: 125%;\n",
       "    font-weight: 400;\n",
       "    width:750px; /* MINE, previous 600px */\n",
       "    margin-left:auto;\n",
       "    margin-right:auto;\n",
       "}\n",
       "\n",
       "\n",
       "/* Formatting for header cells */\n",
       ".text_cell_render h1 {\n",
       "    font-family: 'Nixie One', serif;\n",
       "    font-style:regular;\n",
       "    font-weight: 400;\n",
       "    font-size: 45pt;\n",
       "    line-height: 100%;\n",
       "    color: rgb(0,51,102);\n",
       "    margin-bottom: 0.5em;\n",
       "    margin-top: 0.5em;\n",
       "    display: block;\n",
       "}\n",
       "\n",
       ".text_cell_render h2 {\n",
       "    font-family: 'Nixie One', serif;\n",
       "    font-weight: 400;\n",
       "    font-size: 30pt;\n",
       "    line-height: 100%;\n",
       "    color: rgb(0,51,102);\n",
       "    margin-bottom: 0.1em;\n",
       "    margin-top: 0.3em;\n",
       "    display: block;\n",
       "}\n",
       "\n",
       ".text_cell_render h3 {\n",
       "    font-family: 'Nixie One', serif;\n",
       "    margin-top:16px;\n",
       "    font-size: 22pt;\n",
       "    font-weight: 600;\n",
       "    margin-bottom: 3px;\n",
       "    font-style: regular;\n",
       "    color: rgb(102,102,0);\n",
       "}\n",
       "\n",
       ".text_cell_render h4 {    /*Use this for captions*/\n",
       "    font-family: 'Nixie One', serif;\n",
       "    font-size: 12pt;\n",
       "    text-align: left;\n",
       "    margin-top: 0em;\n",
       "    margin-bottom: 0em;\n",
       "    font-style: regular;\n",
       "    line-height: 150%;\n",
       "}\n",
       "\n",
       ".text_cell_render h5 {  /*Use this for small titles*/\n",
       "    font-family: 'Nixie One', sans-serif;\n",
       "    font-weight: 400;\n",
       "    font-size: 16pt;\n",
       "    color: rgb(163,0,0);\n",
       "    font-style: italic;\n",
       "    margin-bottom: .1em;\n",
       "    margin-top: 0.8em;\n",
       "    display: block;\n",
       "}\n",
       "\n",
       ".text_cell_render h6 { /*use this for copyright note*/\n",
       "    font-family: 'PT Mono', sans-serif;\n",
       "    font-weight: 300;\n",
       "    font-size: 9pt;\n",
       "    line-height: 100%;\n",
       "    color: grey;\n",
       "    margin-bottom: 1px;\n",
       "    margin-top: 1px;\n",
       "}\n",
       "\n",
       ".CodeMirror{\n",
       "    font-family: \"PT Mono\";\n",
       "    font-size: 90%;\n",
       "}\n",
       "\n",
       "</style>\n",
       "<script>\n",
       "    MathJax.Hub.Config({\n",
       "                        TeX: {\n",
       "                           extensions: [\"AMSmath.js\"],\n",
       "                           equationNumbers: { autoNumber: \"AMS\", useLabelIds: true}\n",
       "                           },\n",
       "                tex2jax: {\n",
       "                    inlineMath: [ ['$','$'], [\"\\\\(\",\"\\\\)\"] ],\n",
       "                    displayMath: [ ['$$','$$'], [\"\\\\[\",\"\\\\]\"] ]\n",
       "                },\n",
       "                displayAlign: 'center', // Change this to 'center' to center equations.\n",
       "                \"HTML-CSS\": {\n",
       "                    styles: {'.MathJax_Display': {\"margin\": 4}}\n",
       "                }\n",
       "        });\n",
       "</script>\n"
      ],
      "text/plain": [
       "<IPython.core.display.HTML object>"
      ]
     },
     "execution_count": 3,
     "metadata": {},
     "output_type": "execute_result"
    }
   ],
   "source": [
    "from IPython.display import Latex\n",
    "\n",
    "# Execute this cell to load the notebook's style sheet, then ignore it\n",
    "from IPython.core.display import HTML\n",
    "css_file = 'styles/numericalmoocstyle.css'\n",
    "HTML(open(css_file, \"r\").read())"
   ]
  },
  {
   "cell_type": "markdown",
   "metadata": {},
   "source": [
    "## **Oreka termodinamikoa eta**\n",
    "## **egoera-ekuazioa**\n",
    "## Ariketak "
   ]
  },
  {
   "cell_type": "markdown",
   "metadata": {},
   "source": [
    "Ondoren dauden oreka termodinamikoarekin eta oreka-eguazioarekin lotutako ariketak dira. Hauen antzeko batzuk *Zemnasky* liburuan, 2. gaian aurkitu ditzakezu. Ondorengoak ez daude aipatutako liburuan.\n",
    "\n",
    "**Ariketen helburua**: egoera-ekuazioaren esanguraz jabetzea. Egoera-ekuazioaren forma ezberdinak erabiltzen trebatzea.\n",
    "\n",
    "Dakizunez, aztertu beharreko sistemaren deskribapenean parte hartzen duten aldagai termodinamikoen arteko lotura adierazten duen funtzioa da egoera-ekuazioa. Ondoren agertu diren adibideetan, sistemek egoera-ekuazio bana dute, nahiz eta hori ez den beti kasua: baldintza esperimentalen arabera egoera-ekuazio ezberdeinen bidez deskribatu daitezke sistemak. Hobeto esateko, sistemak agertu daitezken oreka(termodinamikoko)-egoerak. Gogoratu oreka-egoerek baino ez dutela betetzen egoera-ekuazioa adierazten duen lotura (funtzio matematikoa).\n",
    "\n",
    "Egoera-ekuazioa existitzen den funtzio matematikoa da eta, printzipioz, intereseko guneetan (fase-trantsizioak aldera utzita, esaterako, ikusiko dugunez), jarraitua eta deribagarria (zentzu matematikoan). Horren arabera, egoera-ekuazioak beti dauka definituta bere diferentzial osoa, haren aldagai independenteekiko deribatu partzialen bidez eraikitakoa, jakina.\n",
    "\n",
    "Sistema hidorstatikoak hiru askatasun-gradu dauzka: kimikoa, termikoa eta mekanikoa. Gure kasuan, argitu dudan moduan, masa konstanteko sistem hidrostatikoak baino ez dugunez aztertuko, askatasun-gradu kimikoa *izoztuta* dago eta era efektiboan *gure* sistema hidrostatikoek 2 askatasun-gradu (a-g) baino ez dute: termikoa eta mekanikoa.\n",
    "\n",
    "Horiekin lotutako aldagi termodinamikoak (lehenengo eta bigarren Printzipioak ikasi baino lehen) honako hauek dira: $(p, T, V)$, hiru, beraz. Baina, 2 a-gko sistema denez, horietatik 2 baino ez dira independente. (Gogoratu eskolan esandakoa: **askatasun-graduko egoera-ekuazio bat definitzen da**.) Gehienetan, honako era honetan adierazi ohi da egoera-ekuazio *mekanikoa* (a-g mekanikoarekin lotutakoa):\n",
    "\n",
    "$$ V = V (T, p) $$\n",
    "\n",
    "Baina funtzio matematiko horretan dagoen informazio fisikoa eta beste edozein aldagai termodinamikoren bikote aldagai independentetzat erabilita definitutako funtzioan dagoena **berbera** da. Hots, hauek ere bai egoera-ekuazio (berberak aurrekotik bakandutakoak badira, jakina) dira:\n",
    "\n",
    "$$ p = p(T, V)  $$\n",
    "$$ T = T(p, V)  $$\n",
    "\n",
    "Baina ez bakarrik hori, funtzio horiek guztiak existitzen diren funtzioak direnez, haiek deribatuak ere bai (gorago aipatutko moduan eta zentzuan), beraz, funtzioa ezagutuz gero, bere deribatuak (printzipioz), partzialak, kalkulatu daitezke. Eta alderantziz ere bai: bi deribatu partzialak ezagututa, egoera-ekuazioa (funtzio matematiko moduan) eraiki (berreskuratu) daiteke: integratuz. Edozein kasutan, informazio fisiko berbera dago egoera-ekuazioan zein haren deribatu guztietan (aldi berean ezagututa denak). Bi noranzkoko inplikazioa da.\n",
    "\n",
    "Horietan dautza ondoko ariketak."
   ]
  },
  {
   "cell_type": "markdown",
   "metadata": {},
   "source": [
    "#### Lehenego bi ariketetan egoera-ekuazioa ezaguna da eta koefziente esperimentalak ($\\alpha$ eta $\\kappa_{T}$) lortu behar dira. Horretarako, deribatu baino ez da egin behar. Kontuan izan koefiziente esperimentalak defintzen direla egoera-ekuazioaren forma hauxe izanik: $V = V(T, p)$. Horrek esan nahi du, $V$ esplizituki adierazi behar dugula beste aldagaien funtzioan. Batzuetan hori ez da posible *analitikoki*. Konturatuko zarenez, berori gertatuko zaizu ondorengo bi ariketetan. Kontuz, beraz. \n",
    "\n",
    "#### Zer eta beste aldagai dependente erabiltzen baduzu eta horren diferentziala kalkulatu?"
   ]
  },
  {
   "cell_type": "markdown",
   "metadata": {},
   "source": [
    "### 1. Ariketa\n",
    "\n",
    "Lortu, *Berthelot*-en egoera-ekuazioa esleitu zaion gasaren kasuan, $\\alpha$ zabalkuntza termikoko eta $\\kappa_T$ konpresibilitate isotermoko koefizienteak. *Berthelot*-en egoera-ekuazioa ondokoa da:\n",
    "$$ \\left( {p + \\frac{a}{{TV^2 }}} \\right)\\left( {V - b} \\right) = RT $$ \n",
    "\n",
    "\n"
   ]
  },
  {
   "cell_type": "markdown",
   "metadata": {},
   "source": [
    "\n",
    "### 2. Ariketa\n",
    "\n",
    "Lortu, *Redlich/Kwong*-en egoera-ekuazio aldatua esleitu zaion gasaren kasuan, $\\alpha$ zabalkuntza kubikoko eta $\\kappa_T$ konpresibilitate isotermoko koefizienteak.  *Redlich/Kwong*-en egoera-ekuazio aldatua ondokoa da:\n",
    "$$  \\left( {p + \\frac{a}{{T^{\\frac{1}{2}} V^2 }}} \\right)\\left( {V - b} \\right) = RT $$ \n",
    "\n"
   ]
  },
  {
   "cell_type": "markdown",
   "metadata": {},
   "source": [
    "#### Hurrengo hiru ariketetan, justu kontrakoa egin behar da; hots, abiapuntuan, aztertu beharreko sistemekin lotutako koefiziente esperimentalak ezagutzen dira eta egoera-ekuazioa bera lortu behar da, integratuz. Kasu hauetan ere bai *sailtasunak* izango dituzu, batzuetan. Berriro ere kontuan izan informazio berbera dagoela egoera-ekuazioaren edozein *saporetan* eta, beraz, baliokide izango dela ekuazio diferentzial bat edo harekin lotutako beste bat integratzea. Erabili beharko dituzu deribatu partzialen arteko erlazioak.\n",
    "\n",
    "#### Ariketa batean, konturatuko zarenez, ezezaguna den konstante batzuk daude eta horien arteko erlazioa eskatzen da. Hori lortzeko, benetan existitzen diren funtzioek (**diferentzial zehatzek**) betetzen duten baldintza erabili beharko duzu; hots, bigarren ordenako deribatu partzial gurutzatuek berdinak direla, honako hau:\n",
    "\n",
    "$$ \\left(  \\frac{\\partial ^{2}}{\\partial x\\, \\partial y} \\right)_{y, x}  = \\left(  \\frac{\\partial ^{2}}{\\partial y\\, \\partial x} \\right)_{x,y}$$"
   ]
  },
  {
   "cell_type": "markdown",
   "metadata": {},
   "source": [
    "\n",
    "### 3. Ariketa\n",
    "\n",
    "Gas hipotetiko baten kasuan, $\\alpha$ zabalkuntza kubikoko koefizientea eta $\\kappa_T$ konpresibilitate koefizientea ondoko adierazpenek adierazi dizkigute:\n",
    "$$ \\alpha  = \\frac{{nR}}{{Vp}} $$ \n",
    "$$ \\kappa _T  = \\frac{a}{V}{\\rm{ + }}f(p) $$ \n",
    "\n",
    "- Lortu sistemaren egoera-ekuazioa.\n",
    "\n"
   ]
  },
  {
   "cell_type": "markdown",
   "metadata": {},
   "source": [
    "\n",
    "### 4. Ariketa\n",
    "\n",
    "Aztertu beharreko fluidoaren kasuan$\\alpha$ zabalkuntza kubikoko koefizientea eta $\\kappa _T$ konpresibilitate koefizientea ondoko adierazpenek adierazi dizkigute:\n",
    "$$  \\alpha  = 2\\delta \\theta  - \\varpi pe^{\\gamma \\theta } $$ \n",
    "$$  \\kappa _T  =  - Ae^{\\gamma \\theta } $$ \n",
    "\n",
    "- Lortu sistemari dagokion egoera-ekuazioa. \n",
    "- Lortu  $A$, $\\gamma$, $\\delta$ eta $\\omega$ konstanteen arteko oinarrizko erlazioa.\n"
   ]
  },
  {
   "cell_type": "markdown",
   "metadata": {},
   "source": [
    "\n",
    "\t\t\n",
    "### 5. Ariketa\n",
    "\n",
    "Aztertu beharreko gasaren kasuan $\\alpha$ zabalkuntza kubikoko koefizientea eta $\\kappa_T$ konpresibilitate-koefizientea honako adierazpen hauek adierazi dizkigute:\n",
    "$$ \\alpha  = \\frac{1}{T}\\frac{{1 + \\frac{a}{{RTV}}}}{{\\frac{V}{{V - b}} - \\frac{a}{{RTV}}}} $$ \n",
    "$$ \\kappa _T  = \\frac{1}{p}\\frac{1}{{\\frac{V}{{V - b}} - \\frac{a}{{RTV}}}} $$ \n",
    "\n",
    "- Lortu sistemari dagokion egoera-ekuazioa. \n",
    "- Lortu integrazio-konstantearen balioa, kontuan hartuz presio txikietarako gasaren jokaera gas idealarena dela.\n",
    "\n"
   ]
  },
  {
   "cell_type": "markdown",
   "metadata": {},
   "source": [
    "\n",
    "### 6. Ariketa\n",
    "\n",
    "Aztertu beharreko gasaren kasuan $\\alpha$ zabalkuntza kubikoko koefizientea eta $\\kappa _T$ konpresibilitate-koefizientea ondoko adierazpenek adierazi dizkigute:\n",
    "$$ \\alpha  = \\frac{{\\left( {V - b} \\right)}}{{TV}} $$ \n",
    "$$ \\kappa _T  = \\frac{{\\left( {V - b} \\right)}}{{pV}} $$ \n",
    "\n",
    "\n",
    "- Lortu sistemari dagokion egoera-ekuazioa. \n",
    "- Lortu integrazio-konstantearen balioa kontuan hartuz $b = 0$ den kasuan gasaren jokaera gas idealarena dela.\n"
   ]
  },
  {
   "cell_type": "markdown",
   "metadata": {},
   "source": [
    "#### Azken ariketa honetan egoera-ekuazio mekanikoaren beste forma bat lortuko duzu."
   ]
  },
  {
   "cell_type": "markdown",
   "metadata": {},
   "source": [
    "\n",
    "### 7. Ariketa\n",
    "\n",
    "Presio konstanteko baldintzatan, substantzia baten tenperatura $\\Delta T$ kantitatean aldatutakoan, frogatu dentsitate-aldaketa honako hau izango dela:\n",
    "$$ \\Delta \\rho  =  - \\rho \\alpha \\Delta \\theta $$\n",
    " \n",
    "Azaldu zeinuaren zergatia.\n"
   ]
  }
 ],
 "metadata": {
  "kernelspec": {
   "display_name": "Python 2",
   "language": "python",
   "name": "python2"
  },
  "language_info": {
   "codemirror_mode": {
    "name": "ipython",
    "version": 2
   },
   "file_extension": ".py",
   "mimetype": "text/x-python",
   "name": "python",
   "nbconvert_exporter": "python",
   "pygments_lexer": "ipython2",
   "version": "2.7.10"
  }
 },
 "nbformat": 4,
 "nbformat_minor": 0
}
