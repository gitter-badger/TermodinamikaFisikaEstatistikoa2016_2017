{
 "cells": [
  {
   "cell_type": "code",
   "execution_count": 4,
   "metadata": {
    "collapsed": false
   },
   "outputs": [
    {
     "data": {
      "text/html": [
       "<link href='http://fonts.googleapis.com/css?family=Alegreya+Sans:100,300,400,500,700,800,900,100italic,300italic,400italic,500italic,700italic,800italic,900italic' rel='stylesheet' type='text/css'>\n",
       "<link href='http://fonts.googleapis.com/css?family=Arvo:400,700,400italic' rel='stylesheet' type='text/css'>\n",
       "<link href='http://fonts.googleapis.com/css?family=PT+Mono' rel='stylesheet' type='text/css'>\n",
       "<link href='http://fonts.googleapis.com/css?family=Shadows+Into+Light' rel='stylesheet' type='text/css'>\n",
       "<link href='http://fonts.googleapis.com/css?family=Nixie+One' rel='stylesheet' type='text/css'>\n",
       "<style>\n",
       "\n",
       "@font-face {\n",
       "    font-family: \"Computer Modern\";\n",
       "    src: url('http://mirrors.ctan.org/fonts/cm-unicode/fonts/otf/cmunss.otf');\n",
       "}\n",
       "\n",
       "#notebook_panel { /* main background */\n",
       "    background: rgb(245,245,245);\n",
       "}\n",
       "\n",
       "div.cell { /* set cell width */\n",
       "    width: 950px; /*previous 750px*/\n",
       "    /*margin-left:5% !important; /*  Mine Sep2015 */\n",
       "\n",
       "}\n",
       "\n",
       "div #notebook { /* centre the content */\n",
       "    background: #fff; /* white background for content */\n",
       "    width: 1200px; /*previous 1000px*/\n",
       "    margin: auto;\n",
       "    padding-left: 0em;\n",
       "}\n",
       "\n",
       "#notebook li { /* More space between bullet points */\n",
       "    margin-top:0.8em;\n",
       "}\n",
       "\n",
       "/* draw border around running cells */\n",
       "div.cell.border-box-sizing.code_cell.running {\n",
       "    border: 1px solid #111;\n",
       "}\n",
       "\n",
       "\n",
       "/* Put a solid color box around each cell and its output, visually linking them*/\n",
       "div.cell.code_cell {\n",
       "    background-color: rgb(256,256,256);\n",
       "    border-radius: 0px;\n",
       "    padding: 0.5em;\n",
       "    margin-left:1em;\n",
       "    margin-top: 1em;\n",
       "}\n",
       "\n",
       "div.text_cell_render{\n",
       "    /*background-color: rgb(240,240,240); /* MINE */\n",
       "    font-family: 'Alegreya Sans' sans-serif;\n",
       "    line-height: 140%;\n",
       "    font-size: 125%;\n",
       "    font-weight: 400;\n",
       "    width:750px; /* MINE, previous 600px */\n",
       "    margin-left:auto;\n",
       "    margin-right:auto;\n",
       "}\n",
       "\n",
       "\n",
       "/* Formatting for header cells */\n",
       ".text_cell_render h1 {\n",
       "    font-family: 'Nixie One', serif;\n",
       "    font-style:regular;\n",
       "    font-weight: 400;\n",
       "    font-size: 45pt;\n",
       "    line-height: 100%;\n",
       "    color: rgb(0,51,102);\n",
       "    margin-bottom: 0.5em;\n",
       "    margin-top: 0.5em;\n",
       "    display: block;\n",
       "}\n",
       "\n",
       ".text_cell_render h2 {\n",
       "    font-family: 'Nixie One', serif;\n",
       "    font-weight: 400;\n",
       "    font-size: 30pt;\n",
       "    line-height: 100%;\n",
       "    color: rgb(0,51,102);\n",
       "    margin-bottom: 0.1em;\n",
       "    margin-top: 0.3em;\n",
       "    display: block;\n",
       "}\n",
       "\n",
       ".text_cell_render h3 {\n",
       "    font-family: 'Nixie One', serif;\n",
       "    margin-top:16px;\n",
       "    font-size: 22pt;\n",
       "    font-weight: 600;\n",
       "    margin-bottom: 3px;\n",
       "    font-style: regular;\n",
       "    color: rgb(102,102,0);\n",
       "}\n",
       "\n",
       ".text_cell_render h4 {    /*Use this for captions*/\n",
       "    font-family: 'Nixie One', serif;\n",
       "    font-size: 12pt;\n",
       "    text-align: left;\n",
       "    margin-top: 0em;\n",
       "    margin-bottom: 0em;\n",
       "    font-style: regular;\n",
       "    line-height: 150%;\n",
       "}\n",
       "\n",
       ".text_cell_render h5 {  /*Use this for small titles*/\n",
       "    font-family: 'Nixie One', sans-serif;\n",
       "    font-weight: 400;\n",
       "    font-size: 16pt;\n",
       "    color: rgb(163,0,0);\n",
       "    font-style: italic;\n",
       "    margin-bottom: .1em;\n",
       "    margin-top: 0.8em;\n",
       "    display: block;\n",
       "}\n",
       "\n",
       ".text_cell_render h6 { /*use this for copyright note*/\n",
       "    font-family: 'PT Mono', sans-serif;\n",
       "    font-weight: 300;\n",
       "    font-size: 9pt;\n",
       "    line-height: 100%;\n",
       "    color: grey;\n",
       "    margin-bottom: 1px;\n",
       "    margin-top: 1px;\n",
       "}\n",
       "\n",
       ".CodeMirror{\n",
       "    font-family: \"PT Mono\";\n",
       "    font-size: 90%;\n",
       "}\n",
       "\n",
       "</style>\n",
       "<script>\n",
       "    MathJax.Hub.Config({\n",
       "                        TeX: {\n",
       "                           extensions: [\"AMSmath.js\"],\n",
       "                           equationNumbers: { autoNumber: \"AMS\", useLabelIds: true}\n",
       "                           },\n",
       "                tex2jax: {\n",
       "                    inlineMath: [ ['$','$'], [\"\\\\(\",\"\\\\)\"] ],\n",
       "                    displayMath: [ ['$$','$$'], [\"\\\\[\",\"\\\\]\"] ]\n",
       "                },\n",
       "                displayAlign: 'center', // Change this to 'center' to center equations.\n",
       "                \"HTML-CSS\": {\n",
       "                    styles: {'.MathJax_Display': {\"margin\": 4}}\n",
       "                }\n",
       "        });\n",
       "</script>\n"
      ],
      "text/plain": [
       "<IPython.core.display.HTML object>"
      ]
     },
     "execution_count": 4,
     "metadata": {},
     "output_type": "execute_result"
    }
   ],
   "source": [
    "from IPython.display import Latex\n",
    "\n",
    "# Execute this cell to load the notebook's style sheet, then ignore it\n",
    "from IPython.core.display import HTML\n",
    "css_file = 'styles/numericalmoocstyle.css'\n",
    "HTML(open(css_file, \"r\").read())"
   ]
  },
  {
   "cell_type": "markdown",
   "metadata": {},
   "source": [
    "## **Termodinamikaren 0. Printzipioa**\n",
    "## Ariketak"
   ]
  },
  {
   "cell_type": "markdown",
   "metadata": {},
   "source": [
    "Ondoren dauden ariketak termodinamikaren Zero Printzipioarekin lotutako ariketak dira. *Zemansky* liburutik ateratakoak dira, esplizituki adierazita dagoen moduan.\n",
    "\n",
    "**Ariketen helburua**: tenperatura-funtzioaren kontzeptuaz jabetzea eta oreka termikoarekin lotutako adibideak ebazten trebatzea.\n",
    "\n",
    "Ikusiko duzuenez, elkarren arteko ukipen termikoan esarriko diren sistemak mota berekoak izan daitezke (hots, haien deskribapenean parte hartzen duten aldagaiak mota berekoak dira, askatasun-gradu bereko sistemak izango baitira) edo ez. Azken kasuan, jakina, sistemen deskribapenean parte hartzen dituzten aldagaiak mota desberdinekoak dira, baina edozein kasutan, sistemek izango dute esleituta tenperatura-funtzioa. Oreka termikoan dauden sistemen tenperatura-funtzioek balio beberbera izango dute, oreka termiko, egoera fisiko, berean baitaude. Oreka termikoa adierazteko, tenperatura-funtzioak erabilita, **berdintzak** (ekuazio matematikoak) erabiltzen dira. Horietan dautza ariketak."
   ]
  },
  {
   "cell_type": "markdown",
   "metadata": {},
   "source": [
    "### 1. Ariketa (Z 1.1)\n",
    "\n",
    "#### Ariketa honetan, *sistema hidrostatikoak* dira elkarren arteko oreka termikoan dauden sistemak. Horien deskribapenean parte hartzen dituzten aldagaien sorta honako hau da (p, T ($\\theta$), V). Sistemak desberdintzeko aldagaiak desberdintzen dira."
   ]
  },
  {
   "cell_type": "markdown",
   "metadata": {},
   "source": [
    "\n",
    "\n",
    "$A$, $B$ eta $C$ gasak dira, ($p$, $V$), ($p'$, $V'$), ($p''$, $V''$) parametro-bikoteen bidez ezaugarritutakoak.\n",
    "\n",
    "$A$ eta $C$ oreka termikoan dauden kasuan, honako ekuazio hau betetzen da:\n",
    "$$pV - nbp - p'' V''  = 0$$\n",
    "$B$ eta $C$ oreka termikoan dauden kasuan, ordea, betetzen den ekuazioa honako hau da:\n",
    "$$ p\\,'V' - p''\\,V''  + \\frac{n\\,B'\\,p''\\,V''}{V'} = 0 $$\n",
    "adierazpen horretan $n$, $B'$ eta $b$ konstanteak dira.\n",
    "\n",
    "- Zein dira oreka termikoan elkarren berdinak diren funtzioak, non bakoitza $t$ tenperatura enpirikoaren berdina den?\n",
    "- Zein da $A$ eta $B$-ren arteko oreka termikoan agertuko den erlazioa?\n",
    "\n",
    "\n",
    "\n",
    "\n"
   ]
  },
  {
   "cell_type": "markdown",
   "metadata": {},
   "source": [
    "### 2. Ariketa (Z 1.2)\n",
    "\n",
    "#### Ariketa honetan, sistemak  **EZ** dira *sistema hidrostatikoak*: bat bai, baina beste biak ez. Bigarrenak eta hirugarrenak askatasun-gradu magnetikoa(k) dau(z)ka, termikoa izateaz gain. Lehenengoaren deskribapenean parte hartzen dituzten aldagaien sorta honako hau da $(p, T (\\theta), V)$. Bigarrenaren eta hirugarrenaren kasuan aldiz, aldagaien sorta honako hau da $(H, T (\\theta), M)$.\n"
   ]
  },
  {
   "cell_type": "markdown",
   "metadata": {},
   "source": [
    "$A$ eta $B$ sistemak ($H$, $M$) eta ($H'$, $M'$) koordenatu-bikoteen bidez deskribatu daitezke. $C$ sistema gasa da, ($p$, $V$) bikotearen bidez ezaugarritutakoa. $A$ eta $C$ oreka termikoan dauden kasuan ondoko ekuazioa beteko da:\n",
    "$$ 4\\,\\pi n\\,R\\,C_C\\,H - M\\,p\\,V = 0 $$\n",
    "$B$ eta $C$ oreka termikoan dauden kasuan, berriz, ondokoa:\n",
    "$$ n\\,R\\,\\Theta\\,M' + 4\\,\\pi\\,n\\,R\\,C'_C\\,H'  - M'\\,p\\,V = 0 $$\n",
    "adierazpen horretan $n, R, C_c, C_{c^{'}}$ eta $\\Theta$ konstanteak dira. \n",
    " \n",
    "- Zein dira oreka termikoan elkarren berdinak diren funtzioak?\n",
    "- Bihurtu horietariko funtzio bakoitza gas idealaren tenperaturaren berdin.\n",
    "\n",
    "\n",
    "\n"
   ]
  },
  {
   "cell_type": "markdown",
   "metadata": {},
   "source": [
    "### 3. Ariketa (Z 1.3)\n",
    "\n",
    "#### Ariketa honetan gogorarazi nahi da bolumen konstanteko gas-termometroaren (bkgt) erabilera eta gas idealaren tenperatura-eskalaren definizioa. Nahiz eta bkgt-aren tanga egoera termiko berean dagoen egoerarekin ukipen termikoan esarri, bolumenean bertan sartutako gas -kantitatea ezberdina bada, lortuko den tenperaturaren balioa ezberdina izango da. Haatik, gas idealaren limetean, hots, sartutako gas kantitatea oso-oso txikia denean, tenperaturaren balio bakarra lortzen da. Kasu honetan, gas aldatuko bagenu ere bai.\n",
    "\n",
    "Bolumen konstanteko gas-termometroaren gordailuan dagoen gasaren presioa adierazi dute beheko taulako lehenengo lerroko zenbakiek, gordailua uraren puntu hirukoitzean dagoen kasuan. Beheko lerroak, aldiz, gordailuaren presioaren irakurketak adierazi ditu, termometroa beste egoera termikoan dagoenean. Zutabeetan, jakina, boumen-konstanteko gas-termometroan sartutako gas berberaren kantita ezberdinak kokatuta neurtutako presio-balioak daude.\n",
    "\n",
    "- Lortu substantziari dagokion $\\theta$ tenperatura,  gas idealaren tenperatura-eskalan.\n",
    "\n",
    "| egoera termikoa | $m_1$ | $m_2$ | $m_3$ | $m_4$ |\n",
    "| :------------ |:------:|:------:|:------:|:------:|\n",
    "| p (mm Hg) PH   | 1000.0 |\t750.0  | 500.0  | 250.0  |\n",
    "| p (mm Hg)      | 1535.3 |\t1151.6 | 767.82 | 383.95 |\n",
    "\n",
    "\n",
    "- **Laguntza**: irudikatu puntuak $\\theta\\,/p_{PH}$, doitu erregresio lineala erabiliz eta doiketaren *jatorriko ordenatua* izango da oreka termikoari dagokion tenperaturaren balioa.\n",
    "\n",
    "- Gogoratu honako hau dela tenperaturaren balio gas idealaren tenperatura-eskalan:\n",
    "$$\\theta = 275.16\\,\\times\\,\\lim_{PH\\to 0}\\frac{p}{p_{PH}} $$\n"
   ]
  },
  {
   "cell_type": "markdown",
   "metadata": {},
   "source": [
    "#### Ondoko bi ariketak berdinak dira. Helburua hauxe da: konturatzea orotariko sistemak erabil daitezkeela termometro gisa eta, gainera, bakoitzaren kasuan, defintzen den tenperaturaren balioa ezberdina izan daitekeela. Tenperatura-eskalaren prozedurari erreparatuz, oraingo bi ariketa hauetan beste *sistema mota* bat aukeratu dugu, erresistentzia elektriko (ez da sistema hidrostatikoa, ez da gasa), eta ariketa bakoitzaren kasuan, *sistema jakin* ezberdina dugu: ikatza eta germanio. Erreparatu bien kasuan aldagai termomentrikoa berdina izanik (**erresistentzia elektrikoa**), funtzio termometrikoa ezberdina da."
   ]
  },
  {
   "cell_type": "markdown",
   "metadata": {},
   "source": [
    "### 4. Ariketa (Z 1.4)\n",
    "\n",
    "\n",
    "Ikatzezko erresistentziaren $R'$ erresistentziari ondoko ekuazioa esleitu zaio:\n",
    "$$ \\sqrt {\\frac{\\log R'}{\\theta }}  = a + b\\,\\log R'$$\n",
    "adierazpen horretan $a=-116$ eta $b=0.675$ dira.\n",
    "\n",
    "- Helio likidozko kriostatoan behatutako erresistentziaren balioa 1000$\\,\\Omega$ da zehazki. Zenbat da tenperatura?\n",
    "- Egin ezazu $R'$ erresistentziari dagokion log/log adierazpide grafikoa $\\theta$-ren funtzioan, 1000 $\\,\\Omega$ eta 30000 $\\,\\Omega$-eko erresistentzia-tartean.\n",
    "\n",
    "\n"
   ]
  },
  {
   "cell_type": "markdown",
   "metadata": {},
   "source": [
    "### 5. Ariketa (Z 1.5)\n",
    "\n",
    "Dopaturiko germaniozko kristalaren erresistentzia adieraziko duen ekuazioa honako hau da:\n",
    "$$ \\log R'  = 4.697 - 3.917\\,\\log \\theta $$\n",
    "\n",
    "- Helio likidozko kriostatoan behatutako erresistentziaren balioa 218$\\,\\Omega$ da. Zenbatekoa da tenperatura?\n",
    "- Egin ezazu  $R'$ erresistentziari dagokion log/log adierazpide grafikoa $\\theta$-ren funtzioan, 200 $\\,\\Omega$-ko eta 30000 $\\,\\Omega$-ko erresistentzia-tartean.\n",
    "\n"
   ]
  }
 ],
 "metadata": {
  "kernelspec": {
   "display_name": "Python 2",
   "language": "python",
   "name": "python2"
  },
  "language_info": {
   "codemirror_mode": {
    "name": "ipython",
    "version": 2
   },
   "file_extension": ".py",
   "mimetype": "text/x-python",
   "name": "python",
   "nbconvert_exporter": "python",
   "pygments_lexer": "ipython2",
   "version": "2.7.10"
  }
 },
 "nbformat": 4,
 "nbformat_minor": 0
}
